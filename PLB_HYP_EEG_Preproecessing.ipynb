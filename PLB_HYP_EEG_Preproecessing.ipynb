{
  "nbformat": 4,
  "nbformat_minor": 0,
  "metadata": {
    "colab": {
      "name": "PLB-HYP_EEG Preproecessing.ipynb",
      "provenance": [],
      "include_colab_link": true
    },
    "kernelspec": {
      "name": "python3",
      "display_name": "Python 3"
    }
  },
  "cells": [
    {
      "cell_type": "markdown",
      "metadata": {
        "id": "view-in-github",
        "colab_type": "text"
      },
      "source": [
        "<a href=\"https://colab.research.google.com/github/Yeganehfrh/B2BC_hypnotic_interaction/blob/main/PLB_HYP_EEG_Preproecessing.ipynb\" target=\"_parent\"><img src=\"https://colab.research.google.com/assets/colab-badge.svg\" alt=\"Open In Colab\"/></a>"
      ]
    },
    {
      "cell_type": "markdown",
      "metadata": {
        "id": "yBSmk7Xt1sOO"
      },
      "source": [
        "# Set Up the Environment"
      ]
    },
    {
      "cell_type": "code",
      "metadata": {
        "id": "xBd6VJF4WuVm",
        "colab": {
          "base_uri": "https://localhost:8080/"
        },
        "outputId": "b166f2aa-4119-4ceb-d11f-036830d5dfde"
      },
      "source": [
        "# install necessary tools\n",
        "!pip install mne\n",
        "!pip install PyDrive\n",
        "!pip install mne_bids"
      ],
      "execution_count": null,
      "outputs": [
        {
          "output_type": "stream",
          "text": [
            "Requirement already satisfied: mne in /usr/local/lib/python3.7/dist-packages (0.22.0)\n",
            "Requirement already satisfied: numpy>=1.11.3 in /usr/local/lib/python3.7/dist-packages (from mne) (1.19.5)\n",
            "Requirement already satisfied: scipy>=0.17.1 in /usr/local/lib/python3.7/dist-packages (from mne) (1.4.1)\n",
            "Requirement already satisfied: PyDrive in /usr/local/lib/python3.7/dist-packages (1.3.1)\n",
            "Requirement already satisfied: google-api-python-client>=1.2 in /usr/local/lib/python3.7/dist-packages (from PyDrive) (1.12.8)\n",
            "Requirement already satisfied: oauth2client>=4.0.0 in /usr/local/lib/python3.7/dist-packages (from PyDrive) (4.1.3)\n",
            "Requirement already satisfied: PyYAML>=3.0 in /usr/local/lib/python3.7/dist-packages (from PyDrive) (3.13)\n",
            "Requirement already satisfied: google-api-core<2dev,>=1.21.0 in /usr/local/lib/python3.7/dist-packages (from google-api-python-client>=1.2->PyDrive) (1.26.1)\n",
            "Requirement already satisfied: google-auth>=1.16.0 in /usr/local/lib/python3.7/dist-packages (from google-api-python-client>=1.2->PyDrive) (1.27.1)\n",
            "Requirement already satisfied: six<2dev,>=1.13.0 in /usr/local/lib/python3.7/dist-packages (from google-api-python-client>=1.2->PyDrive) (1.15.0)\n",
            "Requirement already satisfied: google-auth-httplib2>=0.0.3 in /usr/local/lib/python3.7/dist-packages (from google-api-python-client>=1.2->PyDrive) (0.0.4)\n",
            "Requirement already satisfied: httplib2<1dev,>=0.15.0 in /usr/local/lib/python3.7/dist-packages (from google-api-python-client>=1.2->PyDrive) (0.17.4)\n",
            "Requirement already satisfied: uritemplate<4dev,>=3.0.0 in /usr/local/lib/python3.7/dist-packages (from google-api-python-client>=1.2->PyDrive) (3.0.1)\n",
            "Requirement already satisfied: pyasn1>=0.1.7 in /usr/local/lib/python3.7/dist-packages (from oauth2client>=4.0.0->PyDrive) (0.4.8)\n",
            "Requirement already satisfied: rsa>=3.1.4 in /usr/local/lib/python3.7/dist-packages (from oauth2client>=4.0.0->PyDrive) (4.7.2)\n",
            "Requirement already satisfied: pyasn1-modules>=0.0.5 in /usr/local/lib/python3.7/dist-packages (from oauth2client>=4.0.0->PyDrive) (0.2.8)\n",
            "Requirement already satisfied: packaging>=14.3 in /usr/local/lib/python3.7/dist-packages (from google-api-core<2dev,>=1.21.0->google-api-python-client>=1.2->PyDrive) (20.9)\n",
            "Requirement already satisfied: setuptools>=40.3.0 in /usr/local/lib/python3.7/dist-packages (from google-api-core<2dev,>=1.21.0->google-api-python-client>=1.2->PyDrive) (54.1.2)\n",
            "Requirement already satisfied: pytz in /usr/local/lib/python3.7/dist-packages (from google-api-core<2dev,>=1.21.0->google-api-python-client>=1.2->PyDrive) (2018.9)\n",
            "Requirement already satisfied: googleapis-common-protos<2.0dev,>=1.6.0 in /usr/local/lib/python3.7/dist-packages (from google-api-core<2dev,>=1.21.0->google-api-python-client>=1.2->PyDrive) (1.53.0)\n",
            "Requirement already satisfied: protobuf>=3.12.0 in /usr/local/lib/python3.7/dist-packages (from google-api-core<2dev,>=1.21.0->google-api-python-client>=1.2->PyDrive) (3.12.4)\n",
            "Requirement already satisfied: requests<3.0.0dev,>=2.18.0 in /usr/local/lib/python3.7/dist-packages (from google-api-core<2dev,>=1.21.0->google-api-python-client>=1.2->PyDrive) (2.23.0)\n",
            "Requirement already satisfied: cachetools<5.0,>=2.0.0 in /usr/local/lib/python3.7/dist-packages (from google-auth>=1.16.0->google-api-python-client>=1.2->PyDrive) (4.2.1)\n",
            "Requirement already satisfied: pyparsing>=2.0.2 in /usr/local/lib/python3.7/dist-packages (from packaging>=14.3->google-api-core<2dev,>=1.21.0->google-api-python-client>=1.2->PyDrive) (2.4.7)\n",
            "Requirement already satisfied: chardet<4,>=3.0.2 in /usr/local/lib/python3.7/dist-packages (from requests<3.0.0dev,>=2.18.0->google-api-core<2dev,>=1.21.0->google-api-python-client>=1.2->PyDrive) (3.0.4)\n",
            "Requirement already satisfied: certifi>=2017.4.17 in /usr/local/lib/python3.7/dist-packages (from requests<3.0.0dev,>=2.18.0->google-api-core<2dev,>=1.21.0->google-api-python-client>=1.2->PyDrive) (2020.12.5)\n",
            "Requirement already satisfied: idna<3,>=2.5 in /usr/local/lib/python3.7/dist-packages (from requests<3.0.0dev,>=2.18.0->google-api-core<2dev,>=1.21.0->google-api-python-client>=1.2->PyDrive) (2.10)\n",
            "Requirement already satisfied: urllib3!=1.25.0,!=1.25.1,<1.26,>=1.21.1 in /usr/local/lib/python3.7/dist-packages (from requests<3.0.0dev,>=2.18.0->google-api-core<2dev,>=1.21.0->google-api-python-client>=1.2->PyDrive) (1.24.3)\n",
            "Requirement already satisfied: mne_bids in /usr/local/lib/python3.7/dist-packages (0.6)\n",
            "Requirement already satisfied: mne>=0.21 in /usr/local/lib/python3.7/dist-packages (from mne_bids) (0.22.0)\n",
            "Requirement already satisfied: numpy>=1.14 in /usr/local/lib/python3.7/dist-packages (from mne_bids) (1.19.5)\n",
            "Requirement already satisfied: scipy>=0.18.1 in /usr/local/lib/python3.7/dist-packages (from mne_bids) (1.4.1)\n"
          ],
          "name": "stdout"
        }
      ]
    },
    {
      "cell_type": "code",
      "metadata": {
        "id": "uBqePfvkZJlc"
      },
      "source": [
        "# import necessary modules\n",
        "import os\n",
        "import numpy as np\n",
        "import mne\n",
        "import os.path as op\n",
        "#from mne_bids.copyfiles import copyfile_brainvision\n",
        "import pandas as pd\n",
        "import matplotlib as plt"
      ],
      "execution_count": 77,
      "outputs": []
    },
    {
      "cell_type": "markdown",
      "metadata": {
        "id": "b8MYPa_tv-gX"
      },
      "source": [
        "## Open EEG data from Google Drive"
      ]
    },
    {
      "cell_type": "code",
      "metadata": {
        "id": "5njo4gL_hJID",
        "colab": {
          "base_uri": "https://localhost:8080/"
        },
        "outputId": "62836e7d-1a8d-42c7-eed5-934c8349ee43"
      },
      "source": [
        "# Mount Google Drive\n",
        "from google.colab import drive\n",
        "drive.mount('/content/drive', force_remount= True)"
      ],
      "execution_count": 10,
      "outputs": [
        {
          "output_type": "stream",
          "text": [
            "Mounted at /content/drive\n"
          ],
          "name": "stdout"
        }
      ]
    },
    {
      "cell_type": "code",
      "metadata": {
        "id": "MZXU15t2hp8z"
      },
      "source": [
        "# unzip or unrar if needed\n",
        "# !unzip /content/drive/MyDrive/PLB-HYP\\ OTKA1_EEG\\ data/OTKA1_test0006.zip -d /content/\n",
        "# !unrar e \"/content/drive/MyDrive/rename_temporary/OTKA_rename.rar\" \"/content/\"\n",
        "# with open('/content/OTKA1_test0006/OTKA1_test0006.vmrk') as f:\n",
        "#   content = f.read()\n",
        "# print(content)"
      ],
      "execution_count": null,
      "outputs": []
    },
    {
      "cell_type": "code",
      "metadata": {
        "id": "V4mByW967E0D",
        "colab": {
          "base_uri": "https://localhost:8080/",
          "height": 483
        },
        "outputId": "bf11ef30-f276-4a42-f192-c3d20ada0084"
      },
      "source": [
        "# Open EEG data and visualize its power spectrum density\n",
        "raw = mne.io.read_raw_brainvision('/content/drive/MyDrive/Live Sessions/2131214.vhdr')\n",
        "fig = raw.plot_psd(fmax= 70,n_fft = 512, reject_by_annotation = False, picks = ['eeg'],\n",
        "                   area_mode = 'range', estimate='auto',average=True)\n",
        "fig."
      ],
      "execution_count": 85,
      "outputs": [
        {
          "output_type": "stream",
          "text": [
            "Effective window size : 0.512 (s)\n",
            "Need more than one channel to make topography for eeg. Disabling interactivity.\n"
          ],
          "name": "stdout"
        },
        {
          "output_type": "error",
          "ename": "AttributeError",
          "evalue": "ignored",
          "traceback": [
            "\u001b[0;31m---------------------------------------------------------------------------\u001b[0m",
            "\u001b[0;31mAttributeError\u001b[0m                            Traceback (most recent call last)",
            "\u001b[0;32m<ipython-input-85-ce2a0de454a8>\u001b[0m in \u001b[0;36m<module>\u001b[0;34m()\u001b[0m\n\u001b[1;32m      1\u001b[0m fig = raw.plot_psd(fmax= 70,n_fft = 512, reject_by_annotation = False, picks = ['Fp1'],\n\u001b[1;32m      2\u001b[0m                    area_mode = 'range', estimate='auto',show = False)\n\u001b[0;32m----> 3\u001b[0;31m \u001b[0mfig\u001b[0m\u001b[0;34m.\u001b[0m\u001b[0mtitle\u001b[0m\u001b[0;34m(\u001b[0m\u001b[0;34mr'2131214'\u001b[0m\u001b[0;34m,\u001b[0m \u001b[0mfontsize\u001b[0m\u001b[0;34m=\u001b[0m\u001b[0;36m20\u001b[0m\u001b[0;34m)\u001b[0m\u001b[0;34m\u001b[0m\u001b[0;34m\u001b[0m\u001b[0m\n\u001b[0m",
            "\u001b[0;31mAttributeError\u001b[0m: 'MNELineFigure' object has no attribute 'title'"
          ]
        },
        {
          "output_type": "display_data",
          "data": {
            "image/png": "[encoded data removed]",
            "text/plain": [
              "<MNELineFigure size 720x252 with 1 Axes>"
            ]
          },
          "metadata": {
            "tags": [],
            "needs_background": "light"
          }
        }
      ]
    },
    {
      "cell_type": "markdown",
      "metadata": {
        "id": "reBCibLBl3Ot"
      },
      "source": [
        "# Preprocessing"
      ]
    },
    {
      "cell_type": "code",
      "metadata": {
        "colab": {
          "base_uri": "https://localhost:8080/"
        },
        "id": "ZXUu9Zy2QIhV",
        "outputId": "f44a989b-ce53-4e39-be5a-fc03d38d2512"
      },
      "source": [
        "# removing power line noise\n",
        "freqs = (50, 100, 150, 200)\n",
        "raw_notch = raw.copy().notch_filter(freqs=freqs)\n",
        "for title, data in zip(['Un', 'Notch '], [raw, raw_notch]):\n",
        "    fig = data.plot_psd(fmax=250, average=True)\n",
        "    fig.subplots_adjust(top=0.85)\n",
        "    fig.suptitle('{}filtered'.format(title), size='xx-large', weight='bold')"
      ],
      "execution_count": 51,
      "outputs": [
        {
          "output_type": "stream",
          "text": [
            "Setting up band-stop filter\n",
            "\n",
            "FIR filter parameters\n",
            "---------------------\n",
            "Designing a one-pass, zero-phase, non-causal bandstop filter:\n",
            "- Windowed time-domain design (firwin) method\n",
            "- Hamming window with 0.0194 passband ripple and 53 dB stopband attenuation\n",
            "- Lower transition bandwidth: 0.50 Hz\n",
            "- Upper transition bandwidth: 0.50 Hz\n",
            "- Filter length: 6601 samples (6.601 sec)\n",
            "\n"
          ],
          "name": "stdout"
        }
      ]
    },
    {
      "cell_type": "code",
      "metadata": {
        "colab": {
          "base_uri": "https://localhost:8080/"
        },
        "id": "hB_AX-W8cRmj",
        "outputId": "b140f655-fa70-4edd-8388-d74d55c7b20d"
      },
      "source": [
        "# epoching continuous data\n",
        "events, event_dict = mne.events_from_annotations(raw)\n",
        "event_dict = {'first_trigger': 1, 'baseline_start': 2, 'baseline_end': 3,\n",
        "              'intro': 4, 'induction': 5, 'experience': 6, 'hypnosis_end': 7, 'posthyp': 8, 'posthyp_end':9}\n",
        "epochs = mne.Epochs(raw, events, event_dict, preload= True)\n",
        "fig = mne.viz.plot_events(events, sfreq=raw.info['sfreq'],\n",
        "                          first_samp=raw.first_samp, event_id=event_dict)\n",
        "fig.subplots_adjust(right=0.7)  # make room for legend"
      ],
      "execution_count": 55,
      "outputs": [
        {
          "output_type": "stream",
          "text": [
            "Used Annotations descriptions: ['New Segment/', 'Stimulus/S  1', 'Stimulus/S  2', 'Stimulus/S  3', 'Stimulus/S  4', 'Stimulus/S  5', 'Stimulus/S  6', 'Stimulus/S  7', 'Stimulus/S  8', 'Stimulus/S  9']\n",
            "Not setting metadata\n",
            "Not setting metadata\n",
            "22 matching events found\n",
            "Setting baseline interval to [-0.2, 0.0] sec\n",
            "Applying baseline correction (mode: mean)\n",
            "0 projection items activated\n",
            "Loading data for 22 events and 701 original time points ...\n",
            "0 bad epochs dropped\n"
          ],
          "name": "stdout"
        }
      ]
    },
    {
      "cell_type": "code",
      "metadata": {
        "colab": {
          "base_uri": "https://localhost:8080/",
          "height": 431
        },
        "id": "Xk0PrnhFS9mU",
        "outputId": "0edbf239-81d8-4d48-b84c-b1419f6844a8"
      },
      "source": [
        "epoch_experience = epochs['experience']\n",
        "epoch_experience.plot_image()"
      ],
      "execution_count": 40,
      "outputs": [
        {
          "output_type": "stream",
          "text": [
            "Not setting metadata\n",
            "Not setting metadata\n",
            "4 matching events found\n",
            "No baseline correction applied\n",
            "0 projection items activated\n",
            "0 bad epochs dropped\n",
            "combining channels using \"gfp\"\n"
          ],
          "name": "stdout"
        },
        {
          "output_type": "display_data",
          "data": {
            "image/png": "[encoded data removed]",
            "text/plain": [
              "<Figure size 432x288 with 3 Axes>"
            ]
          },
          "metadata": {
            "tags": [],
            "needs_background": "light"
          }
        },
        {
          "output_type": "execute_result",
          "data": {
            "text/plain": [
              "[<Figure size 432x288 with 3 Axes>]"
            ]
          },
          "metadata": {
            "tags": []
          },
          "execution_count": 40
        }
      ]
    },
    {
      "cell_type": "markdown",
      "metadata": {
        "id": "3il24-UzJlKm"
      },
      "source": [
        "## Rename and checking timing accuracy!"
      ]
    },
    {
      "cell_type": "code",
      "metadata": {
        "id": "spmnTEOo-0tl"
      },
      "source": [
        "# Rename the file if needed and upload them in Google drive\n",
        "data_dir = '/content/drive/MyDrive/rename_temporary'\n",
        "vhdr_file = op.join(data_dir, 'Confusion.vhdr')\n",
        "vhdr_file_renamed = op.join(data_dir, 'hypnotist_confindu.vhdr')\n",
        "copyfile_brainvision(vhdr_file, vhdr_file_renamed, verbose=True)\n",
        "\n",
        "# Check that MNE-Python can read in both, the original as well as the renamed\n",
        "# data (two files: their contents are the same apart from the name)\n",
        "raw = mne.io.read_raw_brainvision(vhdr_file)\n",
        "raw_renamed = mne.io.read_raw_brainvision(vhdr_file_renamed)"
      ],
      "execution_count": null,
      "outputs": []
    },
    {
      "cell_type": "code",
      "metadata": {
        "id": "AD4JUxqYG4F8"
      },
      "source": [
        "# Check timing synchronization between EEG triggers and OpenSesame timestamps\n",
        "## read csv file as pandas and find duration between timestamps\n",
        "subject = pd.read_csv('/content/drive/MyDrive/plb_hyp_eeg_test/subject-1.csv')\n",
        "subject = subject.tail(1)\n",
        "triggers = [c for c in subject.columns if 'timestamp_' in c]\n",
        "data = subject[triggers]\n",
        "diff_csv = pd.to_datetime(data.iloc[0]).diff()\n",
        "\n",
        "# trigInx = subject.columns.get_loc(\"timestamp_trigger_1\")\n",
        "# for i in range(5):\n",
        "#   data = subject.iloc[:,trigInx:trigInx+i]\n",
        "# data.insert(0,\"timestamp_trigger_start\",subject.loc[:,\"timestamp_trigger_start\"])\n",
        "\n",
        "## read EEG marker files and calculate difference between timestamps\n",
        "raw = mne.io.read_raw_brainvision('/content/drive/MyDrive/plb_hyp_eeg_test/plb-hyp-live0001.vhdr')\n",
        "events, event_ids = mne.events_from_annotations(raw)\n",
        "\n",
        "diff_eeg = np.ediff1d(events[:,0])\n",
        "display(diff_csv)\n",
        "display(pd.to_timedelta(diff_eeg,'ms').to_frame())"
      ],
      "execution_count": null,
      "outputs": []
    },
    {
      "cell_type": "code",
      "metadata": {
        "colab": {
          "base_uri": "https://localhost:8080/"
        },
        "id": "7rTA70XXzIwc",
        "outputId": "c0f805c3-e44f-4027-be8b-2ea487264e28"
      },
      "source": [
        "data = data[['timestamp_trigger_1','timestamp_recording_posthyp_end']]\n",
        "diff_csv = pd.to_datetime(data.iloc[0]).diff()"
      ],
      "execution_count": null,
      "outputs": [
        {
          "output_type": "execute_result",
          "data": {
            "text/plain": [
              "timestamp_trigger_1                                  NaT\n",
              "timestamp_recording_posthyp_end   0 days 01:42:38.016796\n",
              "Name: 17, dtype: timedelta64[ns]"
            ]
          },
          "metadata": {
            "tags": []
          },
          "execution_count": 63
        }
      ]
    },
    {
      "cell_type": "code",
      "metadata": {
        "colab": {
          "base_uri": "https://localhost:8080/"
        },
        "id": "2NO9K9kn6jp3",
        "outputId": "567b6f6c-336a-481e-9dcb-b3efab5b07e2"
      },
      "source": [
        "with open('/content/drive/MyDrive/plb_hyp_eeg_test/test_legacy.vmrk') as f:\n",
        "  content = f.read()\n",
        "print(content)"
      ],
      "execution_count": null,
      "outputs": [
        {
          "output_type": "stream",
          "text": [
            "Brain Vision Data Exchange Marker File, Version 1.0\n",
            "\n",
            "[Common Infos]\n",
            "Codepage=UTF-8\n",
            "DataFile=test_legacy.eeg\n",
            "\n",
            "[Marker Infos]\n",
            "; Each entry: Mk<Marker number>=<Type>,<Description>,<Position in data points>,\n",
            "; <Size in data points>, <Channel number (0 = marker is related to all channels)>\n",
            "; Fields are delimited by commas, some fields might be omitted (empty).\n",
            "; Commas in type or description text are coded as \"\\1\".\n",
            "Mk1=New Segment,,1,1,0,20210220174458112327\n",
            "Mk2=Stimulus,S  5,12896,1,0\n",
            "Mk3=Stimulus,S  1,12897,1,0\n",
            "Mk4=Stimulus,S  2,26288,1,0\n",
            "Mk5=Stimulus,S  3,28102,1,0\n",
            "Mk6=Stimulus,S  1,94547,1,0\n",
            "Mk7=Stimulus,S  2,104455,1,0\n",
            "Mk8=Stimulus,S  3,106525,1,0\n",
            "Mk9=Stimulus,S  4,439950,1,0\n",
            "Mk10=Stimulus,S  5,487872,1,0\n",
            "\n"
          ],
          "name": "stdout"
        }
      ]
    },
    {
      "cell_type": "code",
      "metadata": {
        "id": "_hAi-WGd8HJJ"
      },
      "source": [
        "# xpiriment\n",
        "baseline_len = 33.293810\n",
        "pd.to_timedelta(diff_eeg[3],'ms')"
      ],
      "execution_count": null,
      "outputs": []
    },
    {
      "cell_type": "markdown",
      "metadata": {
        "id": "rhUw1NQFuodx"
      },
      "source": [
        "# References\n",
        " - [MNE Python tutorials](https://mne.tools/stable/index.html)\n"
      ]
    }
  ]
}