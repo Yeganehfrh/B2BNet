{
  "nbformat": 4,
  "nbformat_minor": 0,
  "metadata": {
    "colab": {
      "name": "PLB-HYP_EEG Preproecessing.ipynb",
      "provenance": [],
      "collapsed_sections": [],
      "toc_visible": true,
      "include_colab_link": true
    },
    "kernelspec": {
      "name": "python3",
      "display_name": "Python 3"
    }
  },
  "cells": [
    {
      "cell_type": "markdown",
      "metadata": {
        "id": "view-in-github",
        "colab_type": "text"
      },
      "source": [
        "<a href=\"https://colab.research.google.com/github/Yeganehfrh/B2BC_hypnotic_interaction/blob/main/PLB_HYP_EEG_Preproecessing.ipynb\" target=\"_parent\"><img src=\"https://colab.research.google.com/assets/colab-badge.svg\" alt=\"Open In Colab\"/></a>"
      ]
    },
    {
      "cell_type": "markdown",
      "metadata": {
        "id": "yBSmk7Xt1sOO"
      },
      "source": [
        "# Set Up the Environment"
      ]
    },
    {
      "cell_type": "code",
      "metadata": {
        "id": "xBd6VJF4WuVm"
      },
      "source": [
        "# install necessary tools\n",
        "!pip install mne\n",
        "!pip install PyDrive\n",
        "!pip install mne_bids"
      ],
      "execution_count": null,
      "outputs": []
    },
    {
      "cell_type": "code",
      "metadata": {
        "id": "uBqePfvkZJlc"
      },
      "source": [
        "# import necessary modules\n",
        "import os\n",
        "import numpy as np\n",
        "import mne\n",
        "import os.path as op\n",
        "#from mne_bids.copyfiles import copyfile_brainvision\n",
        "import pandas as pd"
      ],
      "execution_count": 2,
      "outputs": []
    },
    {
      "cell_type": "markdown",
      "metadata": {
        "id": "b8MYPa_tv-gX"
      },
      "source": [
        "## Upload EEG data from Google Drive"
      ]
    },
    {
      "cell_type": "code",
      "metadata": {
        "id": "5njo4gL_hJID"
      },
      "source": [
        "# Mount Google Drive\n",
        "from google.colab import drive\n",
        "drive.mount('/content/drive')"
      ],
      "execution_count": null,
      "outputs": []
    },
    {
      "cell_type": "code",
      "metadata": {
        "colab": {
          "base_uri": "https://localhost:8080/"
        },
        "id": "MZXU15t2hp8z",
        "outputId": "af6ab79d-1d14-46a2-9ce2-37ab3338347a"
      },
      "source": [
        "# unzip or unrar if needed\n",
        "# !unzip /content/drive/MyDrive/PLB-HYP\\ OTKA1_EEG\\ data/OTKA1_test0006.zip -d /content/\n",
        "# !unrar e \"/content/drive/MyDrive/rename_temporary/OTKA_rename.rar\" \"/content/\"\n",
        "# with open('/content/OTKA1_test0006/OTKA1_test0006.vmrk') as f:\n",
        "#   content = f.read()\n",
        "# print(content)"
      ],
      "execution_count": null,
      "outputs": [
        {
          "output_type": "stream",
          "text": [
            "Archive:  /content/drive/MyDrive/PLB-HYP OTKA1_EEG data/OTKA1_test0006.zip\n",
            "   creating: /content/OTKA1_test0006/\n",
            "  inflating: /content/OTKA1_test0006/OTKA1_test0006.vmrk  \n",
            "   creating: /content/__MACOSX/\n",
            "   creating: /content/__MACOSX/OTKA1_test0006/\n",
            "  inflating: /content/__MACOSX/OTKA1_test0006/._OTKA1_test0006.vmrk  \n",
            "  inflating: /content/OTKA1_test0006/OTKA1_test0006.vhdr  \n",
            "  inflating: /content/__MACOSX/OTKA1_test0006/._OTKA1_test0006.vhdr  \n",
            "  inflating: /content/OTKA1_test0006/.DS_Store  \n",
            "  inflating: /content/__MACOSX/OTKA1_test0006/._.DS_Store  \n",
            "  inflating: /content/OTKA1_test0006/OTKA1_test0006.eeg  \n",
            "  inflating: /content/__MACOSX/OTKA1_test0006/._OTKA1_test0006.eeg  \n"
          ],
          "name": "stdout"
        }
      ]
    },
    {
      "cell_type": "code",
      "metadata": {
        "id": "4zXbGjV_zHUn",
        "colab": {
          "base_uri": "https://localhost:8080/"
        },
        "outputId": "afc27f76-6a0f-4f5b-c731-0457baa8584a"
      },
      "source": [
        "# Open EEG data\n",
        "raw = mne.io.read_raw_brainvision('/content/drive/MyDrive/plb_hyp_eeg_test/plb-hyp-live0001.vhdr')\n",
        "print(raw.info)"
      ],
      "execution_count": 4,
      "outputs": [
        {
          "output_type": "stream",
          "text": [
            "Extracting parameters from /content/drive/MyDrive/plb_hyp_eeg_test/plb-hyp-live0001.vhdr...\n",
            "Setting channel info structure...\n",
            "<Info | 8 non-empty values\n",
            " bads: []\n",
            " ch_names: Fp1, Fp2, F3, F4, C3, C4, P3, P4, O1, O2, F7, F8, T7, T8, P7, ...\n",
            " chs: 60 EEG, 1 MISC\n",
            " custom_ref_applied: False\n",
            " dig: 60 items (60 EEG)\n",
            " highpass: 0.0 Hz\n",
            " lowpass: 1000.0 Hz\n",
            " meas_date: 2021-02-26 11:56:50 UTC\n",
            " nchan: 61\n",
            " projs: []\n",
            " sfreq: 1000.0 Hz\n",
            ">\n"
          ],
          "name": "stdout"
        },
        {
          "output_type": "stream",
          "text": [
            "<ipython-input-4-1947da301d71>:2: RuntimeWarning: No coordinate information found for channels ['ECG']. Setting channel types to misc. To avoid this warning, set channel types explicitly.\n",
            "  raw = mne.io.read_raw_brainvision('/content/drive/MyDrive/plb_hyp_eeg_test/plb-hyp-live0001.vhdr')\n"
          ],
          "name": "stderr"
        }
      ]
    },
    {
      "cell_type": "markdown",
      "metadata": {
        "id": "3il24-UzJlKm"
      },
      "source": [
        "## Rename and checking timing accuracy!"
      ]
    },
    {
      "cell_type": "code",
      "metadata": {
        "id": "spmnTEOo-0tl"
      },
      "source": [
        "# Rename the file if needed and upload them in Google drive\n",
        "data_dir = '/content/drive/MyDrive/rename_temporary'\n",
        "vhdr_file = op.join(data_dir, 'Confusion.vhdr')\n",
        "vhdr_file_renamed = op.join(data_dir, 'hypnotist_confindu.vhdr')\n",
        "copyfile_brainvision(vhdr_file, vhdr_file_renamed, verbose=True)\n",
        "\n",
        "# Check that MNE-Python can read in both, the original as well as the renamed\n",
        "# data (two files: their contents are the same apart from the name)\n",
        "raw = mne.io.read_raw_brainvision(vhdr_file)\n",
        "raw_renamed = mne.io.read_raw_brainvision(vhdr_file_renamed)"
      ],
      "execution_count": null,
      "outputs": []
    },
    {
      "cell_type": "code",
      "metadata": {
        "id": "AD4JUxqYG4F8"
      },
      "source": [
        "# Check timing synchronization between EEG triggers and OpenSesame timestamps\n",
        "## read csv file as pandas and find duration between timestamps\n",
        "subject = pd.read_csv('/content/drive/MyDrive/plb_hyp_eeg_test/subject-1.csv')\n",
        "subject = subject.tail(1)\n",
        "triggers = [c for c in subject.columns if 'timestamp_' in c]\n",
        "data = subject[triggers]\n",
        "diff_csv = pd.to_datetime(data.iloc[0]).diff()\n",
        "\n",
        "# trigInx = subject.columns.get_loc(\"timestamp_trigger_1\")\n",
        "# for i in range(5):\n",
        "#   data = subject.iloc[:,trigInx:trigInx+i]\n",
        "# data.insert(0,\"timestamp_trigger_start\",subject.loc[:,\"timestamp_trigger_start\"])\n",
        "\n",
        "## read EEG marker files and calculate difference between timestamps\n",
        "raw = mne.io.read_raw_brainvision('/content/drive/MyDrive/plb_hyp_eeg_test/plb-hyp-live0001.vhdr')\n",
        "events, event_ids = mne.events_from_annotations(raw)\n",
        "\n",
        "diff_eeg = np.ediff1d(events[:,0])\n",
        "display(diff_csv)\n",
        "display(pd.to_timedelta(diff_eeg,'ms').to_frame())"
      ],
      "execution_count": null,
      "outputs": []
    },
    {
      "cell_type": "code",
      "metadata": {
        "colab": {
          "base_uri": "https://localhost:8080/"
        },
        "id": "7rTA70XXzIwc",
        "outputId": "c0f805c3-e44f-4027-be8b-2ea487264e28"
      },
      "source": [
        "data = data[['timestamp_trigger_1','timestamp_recording_posthyp_end']]\n",
        "diff_csv = pd.to_datetime(data.iloc[0]).diff()"
      ],
      "execution_count": null,
      "outputs": [
        {
          "output_type": "execute_result",
          "data": {
            "text/plain": [
              "timestamp_trigger_1                                  NaT\n",
              "timestamp_recording_posthyp_end   0 days 01:42:38.016796\n",
              "Name: 17, dtype: timedelta64[ns]"
            ]
          },
          "metadata": {
            "tags": []
          },
          "execution_count": 63
        }
      ]
    },
    {
      "cell_type": "code",
      "metadata": {
        "colab": {
          "base_uri": "https://localhost:8080/"
        },
        "id": "2NO9K9kn6jp3",
        "outputId": "567b6f6c-336a-481e-9dcb-b3efab5b07e2"
      },
      "source": [
        "with open('/content/drive/MyDrive/plb_hyp_eeg_test/test_legacy.vmrk') as f:\n",
        "  content = f.read()\n",
        "print(content)"
      ],
      "execution_count": null,
      "outputs": [
        {
          "output_type": "stream",
          "text": [
            "Brain Vision Data Exchange Marker File, Version 1.0\n",
            "\n",
            "[Common Infos]\n",
            "Codepage=UTF-8\n",
            "DataFile=test_legacy.eeg\n",
            "\n",
            "[Marker Infos]\n",
            "; Each entry: Mk<Marker number>=<Type>,<Description>,<Position in data points>,\n",
            "; <Size in data points>, <Channel number (0 = marker is related to all channels)>\n",
            "; Fields are delimited by commas, some fields might be omitted (empty).\n",
            "; Commas in type or description text are coded as \"\\1\".\n",
            "Mk1=New Segment,,1,1,0,20210220174458112327\n",
            "Mk2=Stimulus,S  5,12896,1,0\n",
            "Mk3=Stimulus,S  1,12897,1,0\n",
            "Mk4=Stimulus,S  2,26288,1,0\n",
            "Mk5=Stimulus,S  3,28102,1,0\n",
            "Mk6=Stimulus,S  1,94547,1,0\n",
            "Mk7=Stimulus,S  2,104455,1,0\n",
            "Mk8=Stimulus,S  3,106525,1,0\n",
            "Mk9=Stimulus,S  4,439950,1,0\n",
            "Mk10=Stimulus,S  5,487872,1,0\n",
            "\n"
          ],
          "name": "stdout"
        }
      ]
    },
    {
      "cell_type": "code",
      "metadata": {
        "colab": {
          "base_uri": "https://localhost:8080/"
        },
        "id": "hasFjVffshpW",
        "outputId": "2020a8d7-5b07-4d09-9be7-954a61b89e97"
      },
      "source": [
        "dt = (439950 - 106525)\n",
        "pd.to_timedelta(dt, 'ms')"
      ],
      "execution_count": null,
      "outputs": [
        {
          "output_type": "execute_result",
          "data": {
            "text/plain": [
              "Timedelta('0 days 00:05:33.425000')"
            ]
          },
          "metadata": {
            "tags": []
          },
          "execution_count": 26
        }
      ]
    },
    {
      "cell_type": "code",
      "metadata": {
        "colab": {
          "base_uri": "https://localhost:8080/"
        },
        "id": "K1TH4ZP51H-0",
        "outputId": "87c0c280-0b36-4d1e-89ec-df8ac37cb7c7"
      },
      "source": [
        "diff_csv"
      ],
      "execution_count": null,
      "outputs": [
        {
          "output_type": "execute_result",
          "data": {
            "text/plain": [
              "timestamp_trigger_start                      NaT\n",
              "timestamp_trigger_1       0 days 00:00:00.046889\n",
              "timestamp_trigger_2       0 days 00:00:10.901977\n",
              "timestamp_trigger_4       0 days 00:05:33.428554\n",
              "timestamp_trigger_5       0 days 00:00:03.282027\n",
              "Name: 0, dtype: timedelta64[ns]"
            ]
          },
          "metadata": {
            "tags": []
          },
          "execution_count": 173
        }
      ]
    },
    {
      "cell_type": "code",
      "metadata": {
        "colab": {
          "base_uri": "https://localhost:8080/"
        },
        "id": "sFTQ9pr716yi",
        "outputId": "25749096-9c70-4549-e062-5e187404f2e4"
      },
      "source": [
        "diff_eeg"
      ],
      "execution_count": null,
      "outputs": [
        {
          "output_type": "execute_result",
          "data": {
            "text/plain": [
              "array([ 20837,  46947, 333577,  18609, 102804, 330905, 416379,  39360,\n",
              "       108252, 335619, 416379,  46367, 108214, 363260, 416460,  31934,\n",
              "       102789, 337424, 416379,  19735, 342701])"
            ]
          },
          "metadata": {
            "tags": []
          },
          "execution_count": 199
        }
      ]
    },
    {
      "cell_type": "code",
      "metadata": {
        "id": "NuIll1e0U4ka"
      },
      "source": [
        "magic_number = 33.293810"
      ],
      "execution_count": null,
      "outputs": []
    },
    {
      "cell_type": "code",
      "metadata": {
        "colab": {
          "base_uri": "https://localhost:8080/"
        },
        "id": "63c7TixR5tcf",
        "outputId": "19a7423b-2fcf-466c-be5b-77d8816aae24"
      },
      "source": [
        "data.iloc[0]"
      ],
      "execution_count": null,
      "outputs": [
        {
          "output_type": "execute_result",
          "data": {
            "text/plain": [
              "timestamp_trigger_start    2021-02-20T17:57:37.865635\n",
              "timestamp_trigger_1        2021-02-20T17:57:37.912524\n",
              "timestamp_trigger_2        2021-02-20T17:57:48.814501\n",
              "timestamp_trigger_4        2021-02-20T18:03:22.243055\n",
              "Name: 0, dtype: object"
            ]
          },
          "metadata": {
            "tags": []
          },
          "execution_count": 164
        }
      ]
    },
    {
      "cell_type": "code",
      "metadata": {
        "colab": {
          "base_uri": "https://localhost:8080/"
        },
        "id": "o7tmNH3gWd2i",
        "outputId": "d18b5501-cde9-49bc-e825-b75602fa2294"
      },
      "source": [
        "diff_eeg"
      ],
      "execution_count": null,
      "outputs": [
        {
          "output_type": "execute_result",
          "data": {
            "text/plain": [
              "array([ 37404,  10737,   1774, 333425,  32818])"
            ]
          },
          "metadata": {
            "tags": []
          },
          "execution_count": 195
        }
      ]
    },
    {
      "cell_type": "code",
      "metadata": {
        "colab": {
          "base_uri": "https://localhost:8080/"
        },
        "id": "lFHqy9eCWrqz",
        "outputId": "112a80e9-501d-4f9a-e8a6-f698b664dccb"
      },
      "source": [
        "# xpiriment\n",
        "pd.to_timedelta(diff_eeg[3],'ms')"
      ],
      "execution_count": null,
      "outputs": [
        {
          "output_type": "execute_result",
          "data": {
            "text/plain": [
              "Timedelta('0 days 00:05:33.425000')"
            ]
          },
          "metadata": {
            "tags": []
          },
          "execution_count": 75
        }
      ]
    },
    {
      "cell_type": "code",
      "metadata": {
        "colab": {
          "base_uri": "https://localhost:8080/"
        },
        "id": "SvloBH985gbO",
        "outputId": "4d5f8cfd-623f-4334-b6f0-04d1065aaa00"
      },
      "source": [
        "# psychopy_legacy\n",
        "diff_eeg[3]"
      ],
      "execution_count": null,
      "outputs": [
        {
          "output_type": "execute_result",
          "data": {
            "text/plain": [
              "5.557"
            ]
          },
          "metadata": {
            "tags": []
          },
          "execution_count": 193
        }
      ]
    },
    {
      "cell_type": "code",
      "metadata": {
        "colab": {
          "base_uri": "https://localhost:8080/"
        },
        "id": "8q6_ziQV7rCK",
        "outputId": "57bcad1a-1f22-486c-e9e9-f02ba358fc5b"
      },
      "source": [
        "# psychopy\n",
        "pd.to_timedelta(380442 - 47019,'ms')\n"
      ],
      "execution_count": null,
      "outputs": [
        {
          "output_type": "execute_result",
          "data": {
            "text/plain": [
              "Timedelta('0 days 00:05:33.423000')"
            ]
          },
          "metadata": {
            "tags": []
          },
          "execution_count": 76
        }
      ]
    },
    {
      "cell_type": "code",
      "metadata": {
        "colab": {
          "base_uri": "https://localhost:8080/"
        },
        "id": "2urCOcKPVYBV",
        "outputId": "6225c658-a3b2-445d-d873-4b107191784d"
      },
      "source": [
        "# legecy\n",
        "pd.to_timedelta(439949 - 106524,'ms')"
      ],
      "execution_count": null,
      "outputs": [
        {
          "output_type": "execute_result",
          "data": {
            "text/plain": [
              "Timedelta('0 days 00:05:33.425000')"
            ]
          },
          "metadata": {
            "tags": []
          },
          "execution_count": 77
        }
      ]
    },
    {
      "cell_type": "code",
      "metadata": {
        "id": "teGp9x8kYOXR"
      },
      "source": [
        " 33.293810"
      ],
      "execution_count": null,
      "outputs": []
    },
    {
      "cell_type": "code",
      "metadata": {
        "colab": {
          "base_uri": "https://localhost:8080/"
        },
        "id": "zO7rrPkt2Ll5",
        "outputId": "d3b36e36-2f6a-48af-d856-0505363cf6ab"
      },
      "source": [
        "289190 / 1000"
      ],
      "execution_count": null,
      "outputs": [
        {
          "output_type": "execute_result",
          "data": {
            "text/plain": [
              "289.19"
            ]
          },
          "metadata": {
            "tags": []
          },
          "execution_count": 15
        }
      ]
    },
    {
      "cell_type": "code",
      "metadata": {
        "colab": {
          "base_uri": "https://localhost:8080/"
        },
        "id": "_hAi-WGd8HJJ",
        "outputId": "abe52b86-4194-417e-e434-2220e8fc8a93"
      },
      "source": [
        "with open('/content/drive/MyDrive/plb_hyp_eeg_test/test_psychopy.vmrk') as f:\n",
        "  content = f.read()\n",
        "print(content)"
      ],
      "execution_count": null,
      "outputs": [
        {
          "output_type": "stream",
          "text": [
            "Brain Vision Data Exchange Marker File, Version 1.0\n",
            "\n",
            "[Common Infos]\n",
            "Codepage=UTF-8\n",
            "DataFile=test_psychopy.eeg\n",
            "\n",
            "[Marker Infos]\n",
            "; Each entry: Mk<Marker number>=<Type>,<Description>,<Position in data points>,\n",
            "; <Size in data points>, <Channel number (0 = marker is related to all channels)>\n",
            "; Fields are delimited by commas, some fields might be omitted (empty).\n",
            "; Commas in type or description text are coded as \"\\1\".\n",
            "Mk1=New Segment,,1,1,0,20210220175342271199\n",
            "Mk2=Stimulus,S  1,36181,1,0\n",
            "Mk3=Stimulus,S  2,45149,1,0\n",
            "Mk4=Stimulus,S  3,47020,1,0\n",
            "Mk5=Stimulus,S  4,380443,1,0\n",
            "Mk6=Stimulus,S  5,383725,1,0\n",
            "\n"
          ],
          "name": "stdout"
        }
      ]
    },
    {
      "cell_type": "markdown",
      "metadata": {
        "id": "rhUw1NQFuodx"
      },
      "source": [
        "# References\n",
        " - [MNE Python tutorials](https://mne.tools/stable/index.html)\n"
      ]
    }
  ]
}