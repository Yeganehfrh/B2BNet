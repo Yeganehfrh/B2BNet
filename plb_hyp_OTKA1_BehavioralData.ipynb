{
  "nbformat": 4,
  "nbformat_minor": 0,
  "metadata": {
    "colab": {
      "name": "plb_hyp_OTKA1_BehavioralData.ipynb",
      "provenance": [],
      "authorship_tag": "ABX9TyNcuLtSG+NYzalp/i4VLUku",
      "include_colab_link": true
    },
    "kernelspec": {
      "name": "python3",
      "display_name": "Python 3"
    },
    "language_info": {
      "name": "python"
    }
  },
  "cells": [
    {
      "cell_type": "markdown",
      "metadata": {
        "id": "view-in-github",
        "colab_type": "text"
      },
      "source": [
        "<a href=\"https://colab.research.google.com/github/Yeganehfrh/B2BC_hypnotic_interaction/blob/main/plb_hyp_OTKA1_BehavioralData.ipynb\" target=\"_parent\"><img src=\"https://colab.research.google.com/assets/colab-badge.svg\" alt=\"Open In Colab\"/></a>"
      ]
    },
    {
      "cell_type": "code",
      "metadata": {
        "id": "pJQa6lXTbcrr",
        "colab": {
          "base_uri": "https://localhost:8080/"
        },
        "outputId": "4747f3c5-5395-4062-b62d-f27f3099ea31"
      },
      "source": [
        "# Set up environment\n",
        "import pandas as pd\n",
        "import numpy as np\n",
        "# Mount Google drive\n",
        "from google.colab import drive\n",
        "drive.mount('/content/drive', force_remount= True)"
      ],
      "execution_count": 1,
      "outputs": [
        {
          "output_type": "stream",
          "text": [
            "Mounted at /content/drive\n"
          ],
          "name": "stdout"
        }
      ]
    },
    {
      "cell_type": "code",
      "metadata": {
        "id": "v_23BBkycAoI"
      },
      "source": [
        "# Open csv files from Session_1_OpenSesameRawFiles and creat all-subjects-in-one dataset\n",
        "from pathlib import Path\n",
        "\n",
        "sessions_dir = Path('/content/drive/MyDrive/Session_1_OpenSesameRawFiles')\n",
        "session_files = list(sessions_dir.glob('*.csv'))\n",
        "\n",
        "data = []\n",
        "index = []\n",
        "for session_file in session_files:\n",
        "  raw = pd.read_csv(session_file, error_bad_lines=False)\n",
        "  data.append(raw.iloc[-1].to_dict())\n",
        "  index.append(session_file)\n",
        "\n",
        "df = pd.DataFrame.from_dict(data)\n",
        "df=df.replace('\\\"\"','',regex=True)\n",
        "#df = df[:-1]\n",
        "\n",
        "# Upload data in the same directory\n",
        "plb_hyp_data = df.to_csv('/content/drive/MyDrive/Session_1_OpenSesameRawFiles/plb_hyp_data.csv')"
      ],
      "execution_count": 6,
      "outputs": []
    },
    {
      "cell_type": "code",
      "metadata": {
        "colab": {
          "base_uri": "https://localhost:8080/"
        },
        "id": "QqFUEH52P70J",
        "outputId": "ff24a7fe-7dd1-4c13-bb57-877e2f8e5bc6"
      },
      "source": [
        "# checking if the participants are equally distributed among four experimental groups\n",
        "columns = [c for c in df.columns if 'type_' in c]\n",
        "df_types = df[columns]\n",
        "\n",
        "comb = pd.Series()\n",
        "for i in range(4):\n",
        "  temp = df_types.iloc[:,i+4] + '_' + df_types.iloc[:,i]\n",
        "  comb = pd.concat([comb, temp], axis = 1, ignore_index= True)\n",
        "\n",
        "comb = comb.drop([0], axis = 1)\n",
        "\n",
        "# creating a column named 'group' that indicates which group each participant belongs to:\n",
        "group = np.empty(shape = comb.shape[0]).tolist()\n",
        "for i in range(comb.shape[0]):\n",
        "  if 'relaxation_hypnosis' in comb.iloc[i].tolist():\n",
        "    if 'whitenoise_hypnosis' in comb.iloc[i].tolist():\n",
        "      group[i] = 'group 1'\n",
        "    else:\n",
        "      group[i] = 'group 2'\n",
        "  elif 'whitenoise_hypnosis' in comb.iloc[i].tolist():\n",
        "    group[i] = 'group 3'\n",
        "  else:\n",
        "    group[i] = 'group 4'\n",
        "\n",
        "group = pd.Series(group)\n",
        "comb = pd.concat([comb, group], axis = 1)\n",
        "comb = comb.rename(columns={0:'group'})\n",
        "\n",
        "comb.group.value_counts()"
      ],
      "execution_count": 126,
      "outputs": [
        {
          "output_type": "stream",
          "text": [
            "/usr/local/lib/python3.7/dist-packages/ipykernel_launcher.py:4: DeprecationWarning: The default dtype for empty Series will be 'object' instead of 'float64' in a future version. Specify a dtype explicitly to silence this warning.\n",
            "  after removing the cwd from sys.path.\n"
          ],
          "name": "stderr"
        },
        {
          "output_type": "execute_result",
          "data": {
            "text/plain": [
              "group 3    20\n",
              "group 1    12\n",
              "group 2     7\n",
              "group 4     5\n",
              "dtype: int64"
            ]
          },
          "metadata": {
            "tags": []
          },
          "execution_count": 126
        }
      ]
    }
  ]
}