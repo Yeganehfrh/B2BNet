{
 "cells": [
  {
   "attachments": {},
   "cell_type": "markdown",
   "metadata": {},
   "source": [
    "# Prepare Input\n",
    "\n",
    "This notebook create xarray dataset to be used as the input to the B2BNet DL model."
   ]
  },
  {
   "attachments": {},
   "cell_type": "markdown",
   "metadata": {},
   "source": [
    "## Participants"
   ]
  },
  {
   "cell_type": "code",
   "execution_count": 1,
   "metadata": {},
   "outputs": [],
   "source": [
    "# Setups\n",
    "%reload_ext autoreload\n",
    "%autoreload 3\n",
    "\n",
    "from src.b2bnet.data.input import process_input\n",
    "\n",
    "import numpy as np\n",
    "import xarray as xr\n",
    "import pandas as pd\n",
    "import mne\n",
    "\n",
    "# read BIDS dataset from external drive\n",
    "eeg_path = '/Volumes/Extreme SSD/PhD/OTKA study1/EEG data/BIDS/'\n",
    "\n",
    "# collector dataset\n",
    "ds = xr.Dataset()"
   ]
  },
  {
   "cell_type": "code",
   "execution_count": 61,
   "metadata": {},
   "outputs": [],
   "source": [
    "# Find relaxation session number (The dataset only include the relaxation procedure)\n",
    "data = pd.read_csv('data/behavioral/behavioral_data.csv')\n",
    "relax_ses = data.query('procedure == \"relaxation\"')[['bids_id', 'session']].reset_index(drop=True)\n",
    "\n",
    "# Change bids id to match file names\n",
    "relax_ses['bids_id'] = relax_ses['bids_id'].astype('int').astype('str').str.zfill(2)\n",
    "\n",
    "# create y_class and save it\n",
    "y_class = data.query('procedure == \"relaxation\"')['score'].apply(lambda x:1 if x >= 5 else 0)\n",
    "# y_class.to_csv('data/behavioral/relaxation_class.csv', index=False)"
   ]
  },
  {
   "cell_type": "code",
   "execution_count": null,
   "metadata": {},
   "outputs": [],
   "source": [
    "# open relaxation eeg files\n",
    "for sub in relax_ses['bids_id'].unique()[:-1]:  # exclude sub_52 because of missing data\n",
    "    task = 'induction' + str(relax_ses.query('bids_id == @sub')['session'].values[0])\n",
    "    eeg_data = process_input(\n",
    "        path=eeg_path,\n",
    "        subject=sub,\n",
    "        task=task,\n",
    "        resampling_frq=120,\n",
    "        ref_chs='average',\n",
    "        filter_bounds=None,\n",
    "        verbose=True\n",
    "    )\n",
    "    # create a xarray\n",
    "    da = xr.DataArray(\n",
    "    data=eeg_data.get_data(),\n",
    "    dims=[\"channels\", \"time\"],\n",
    "    coords={\n",
    "        \"channels\": eeg_data.ch_names,\n",
    "        \"time\": np.arange(0, eeg_data.get_data().shape[1])\n",
    "                          }\n",
    "    )\n",
    "    \n",
    "    ds = ds.update({f'sub_{sub}': da})\n",
    "    \n",
    "## save dataset\n",
    "# ds.to_netcdf('data/input.nc')"
   ]
  },
  {
   "attachments": {},
   "cell_type": "markdown",
   "metadata": {},
   "source": [
    "## hypnotist's data"
   ]
  },
  {
   "cell_type": "code",
   "execution_count": null,
   "metadata": {},
   "outputs": [],
   "source": [
    "# open data and pick eeg channels\n",
    "raw = mne.io.read_raw_brainvision('data/EEG/hypnotist/Relaxation_whole.vhdr',\n",
    "                                  misc=['EMG1', 'EMG2', 'EMG3', 'ECG'],\n",
    "                                  eog=['EOG1', 'EOG2'],\n",
    "                                  verbose=False)\n",
    "raw.pick_types(eeg=True)\n",
    "\n",
    "# CUT: time onsets determined by visual inspection of the raw data (see src/b2bnet/inspect_hypnotist_data.py)\n",
    "tmax = 424\n",
    "tmin = 84\n",
    "raw.crop(tmin=tmin, tmax=tmax)\n",
    "\n",
    "raw.resample(120)\n",
    "\n",
    "raw.add_reference_channels(ref_channels='FCz')\n",
    "raw.set_eeg_reference(ref_channels='average', verbose=False)\n",
    "\n",
    "\n",
    "da = xr.DataArray(\n",
    "    data=raw.get_data(),\n",
    "    dims=[\"channels\", \"time\"],\n",
    "    coords={\n",
    "        \"channels\": raw.ch_names,\n",
    "        \"time\": np.arange(0, raw.get_data().shape[1])\n",
    "                          }\n",
    "    )\n",
    "\n",
    "# save dataarray\n",
    "da.to_netcdf('data/hypnotist.nc')"
   ]
  }
 ],
 "metadata": {
  "kernelspec": {
   "display_name": "b2bnet",
   "language": "python",
   "name": "python3"
  },
  "language_info": {
   "codemirror_mode": {
    "name": "ipython",
    "version": 3
   },
   "file_extension": ".py",
   "mimetype": "text/x-python",
   "name": "python",
   "nbconvert_exporter": "python",
   "pygments_lexer": "ipython3",
   "version": "3.10.10"
  },
  "orig_nbformat": 4
 },
 "nbformat": 4,
 "nbformat_minor": 2
}
