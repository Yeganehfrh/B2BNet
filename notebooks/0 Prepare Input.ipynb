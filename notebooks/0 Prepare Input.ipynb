{
 "cells": [
  {
   "attachments": {},
   "cell_type": "markdown",
   "metadata": {},
   "source": [
    "# Prepare Input\n",
    "\n",
    "This notebook create xarray dataset to be used as the input to the B2BNet DL model."
   ]
  },
  {
   "attachments": {},
   "cell_type": "markdown",
   "metadata": {},
   "source": [
    "## Participants"
   ]
  },
  {
   "cell_type": "code",
   "execution_count": 1,
   "metadata": {},
   "outputs": [],
   "source": [
    "# Setups\n",
    "import numpy as np\n",
    "import mne\n",
    "from pathlib import Path\n",
    "import re\n",
    "import xarray as xr\n",
    "import pandas as pd\n",
    "\n",
    "eeg_path = 'data/EEG/participants/'\n",
    "\n",
    "# eeg channel names (second dimension in dataset)\n",
    "name = 'sub-01_ses-01_task-baseline1_proc-clean_epo.fif'\n",
    "epochs = mne.read_epochs(eeg_path+name, verbose=0)\n",
    "ch_names = epochs.ch_names\n",
    "\n",
    "# collector dataset\n",
    "ds = xr.Dataset()"
   ]
  },
  {
   "cell_type": "code",
   "execution_count": 3,
   "metadata": {},
   "outputs": [],
   "source": [
    "# Find relaxation session number (The dataset only include the relaxation procedure)\n",
    "data = pd.read_csv('codes/B2BC/data/behavioral/behavioral_data.csv')\n",
    "relax_ses = data.query('procedure == \"relaxation\"')[['bids_id', 'session']].reset_index(drop=True)\n",
    "\n",
    "# Change bids id to match file names\n",
    "relax_ses['bids_id'] = relax_ses['bids_id'].astype('int').astype('str').str.zfill(2)\n",
    "\n",
    "# List eeg files names (for relaxation sessions)\n",
    "eegfile_names = []\n",
    "for i in range(len(relax_ses)):\n",
    "    id = relax_ses.loc[i, 'bids_id']\n",
    "    ses = str(relax_ses.loc[i, 'session'])\n",
    "    eegfile_names.append(f'sub-{id}_ses-01_task-induction{ses}_proc-clean_epo')\n",
    "\n",
    "# remove the last file name (we did not preprocess the eeg data from this session because of the program bug)\n",
    "eegfile_names = eegfile_names[:-1]"
   ]
  },
  {
   "cell_type": "code",
   "execution_count": 4,
   "metadata": {},
   "outputs": [],
   "source": [
    "# open relaxation eeg files\n",
    "for name in eegfile_names:\n",
    "    fpath = eeg_path + name + '.fif'\n",
    "    sub, task = re.search('sub-(.*)_ses-01_task-(.*)_proc-clean_epo', name).groups()\n",
    "    epochs = mne.read_epochs(fpath, verbose=0)\n",
    "    epochs.resample(128)\n",
    "    data = np.hstack(epochs.get_data())\n",
    "    \n",
    "    # create a xarray\n",
    "    da = xr.DataArray(\n",
    "    data=data,\n",
    "    dims=[\"channels\", \"time\"],\n",
    "    coords=dict(\n",
    "        ch=([\"channels\"], ch_names),\n",
    "        time=np.arange(0, data.shape[1]),\n",
    "    ))\n",
    "    \n",
    "    ds = ds.update({f'sub_{sub}': da})"
   ]
  },
  {
   "attachments": {},
   "cell_type": "markdown",
   "metadata": {},
   "source": [
    "## hypnotist"
   ]
  },
  {
   "cell_type": "code",
   "execution_count": 19,
   "metadata": {},
   "outputs": [
    {
     "name": "stderr",
     "output_type": "stream",
     "text": [
      "/var/folders/pn/qy0qc5tx7t7_97xjmy6pvksc0000gn/T/ipykernel_10830/542632945.py:2: RuntimeWarning: No coordinate information found for channels ['EMG2', 'EMG3', 'ECG']. Setting channel types to misc. To avoid this warning, set channel types explicitly.\n",
      "  raw1 = mne.io.read_raw_brainvision('data/hypnotist/Relaxation_whole.vhdr', verbose=0)\n",
      "/var/folders/pn/qy0qc5tx7t7_97xjmy6pvksc0000gn/T/ipykernel_10830/542632945.py:2: RuntimeWarning: Not setting positions of 3 misc channels found in montage:\n",
      "['EMG2', 'EMG3', 'ECG']\n",
      "Consider setting the channel types to be of EEG/sEEG/ECoG/DBS/fNIRS using inst.set_channel_types before calling inst.set_montage, or omit these channels when creating your montage.\n",
      "  raw1 = mne.io.read_raw_brainvision('data/hypnotist/Relaxation_whole.vhdr', verbose=0)\n",
      "/var/folders/pn/qy0qc5tx7t7_97xjmy6pvksc0000gn/T/ipykernel_10830/542632945.py:3: RuntimeWarning: No coordinate information found for channels ['EMG2', 'EMG3', 'ECG']. Setting channel types to misc. To avoid this warning, set channel types explicitly.\n",
      "  raw2 = mne.io.read_raw_brainvision('data/EEG/hypnotist/relaxation.vhdr', verbose=0)\n",
      "/var/folders/pn/qy0qc5tx7t7_97xjmy6pvksc0000gn/T/ipykernel_10830/542632945.py:3: RuntimeWarning: Not setting positions of 3 misc channels found in montage:\n",
      "['EMG2', 'EMG3', 'ECG']\n",
      "Consider setting the channel types to be of EEG/sEEG/ECoG/DBS/fNIRS using inst.set_channel_types before calling inst.set_montage, or omit these channels when creating your montage.\n",
      "  raw2 = mne.io.read_raw_brainvision('data/EEG/hypnotist/relaxation.vhdr', verbose=0)\n"
     ]
    }
   ],
   "source": [
    "# open data \n",
    "raw1 = mne.io.read_raw_brainvision('data/hypnotist/Relaxation_whole.vhdr', verbose=0)"
   ]
  }
 ],
 "metadata": {
  "kernelspec": {
   "display_name": "b2bnet",
   "language": "python",
   "name": "python3"
  },
  "language_info": {
   "codemirror_mode": {
    "name": "ipython",
    "version": 3
   },
   "file_extension": ".py",
   "mimetype": "text/x-python",
   "name": "python",
   "nbconvert_exporter": "python",
   "pygments_lexer": "ipython3",
   "version": "3.10.9"
  },
  "orig_nbformat": 4
 },
 "nbformat": 4,
 "nbformat_minor": 2
}
