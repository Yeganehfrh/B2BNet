{
 "cells": [
  {
   "attachments": {},
   "cell_type": "markdown",
   "metadata": {},
   "source": [
    "# Prepare Input\n",
    "\n",
    "This notebook create xarray dataset to be used as the input to the B2BNet DL model."
   ]
  },
  {
   "attachments": {},
   "cell_type": "markdown",
   "metadata": {},
   "source": [
    "## Participants"
   ]
  },
  {
   "cell_type": "code",
   "execution_count": 38,
   "metadata": {},
   "outputs": [],
   "source": [
    "# Setups\n",
    "%reload_ext autoreload\n",
    "%autoreload 3\n",
    "\n",
    "from src.b2bnet.data.input import process_input\n",
    "from IPython.display import clear_output\n",
    "\n",
    "import numpy as np\n",
    "import xarray as xr\n",
    "import pandas as pd\n",
    "import mne\n",
    "\n",
    "# read BIDS dataset from external drive\n",
    "eeg_path = '/Volumes/Extreme SSD/PhD/OTKA study1/EEG data/BIDS/'\n",
    "behvioral_path = '~/Codes/otka_data/behavioral/behavioral_data.csv'\n",
    "\n",
    "# collector dataset\n",
    "ds = xr.Dataset()"
   ]
  },
  {
   "cell_type": "code",
   "execution_count": 8,
   "metadata": {},
   "outputs": [],
   "source": [
    "# Find relaxation session number (The dataset only include the relaxation procedure)\n",
    "data = pd.read_csv(behvioral_path)\n",
    "relax_ses = data.query('procedure == \"relaxation\"')[['bids_id', 'session']].reset_index(drop=True)\n",
    "\n",
    "# Change bids id to match file names\n",
    "relax_ses['bids_id'] = relax_ses['bids_id'].astype('int').astype('str').str.zfill(2)\n",
    "\n",
    "# create y_class dataarray\n",
    "y_class = data.query('procedure == \"relaxation\"')['score'].apply(lambda x:1 if x >= 5 else 0)[:-1]\n",
    "# da_class = xr.DataArray(data=y_class.values, dims=[\"behavioral\"])"
   ]
  },
  {
   "cell_type": "code",
   "execution_count": 80,
   "metadata": {},
   "outputs": [],
   "source": [
    "# open relaxation eeg files\n",
    "def load_subject_data(subj):\n",
    "    task = 'induction' + str(relax_ses.query('bids_id == @subj')['session'].values[0])\n",
    "    eeg_data = process_input(\n",
    "        path=eeg_path,\n",
    "        subject=subj,\n",
    "        task=task,\n",
    "        resampling_frq=120,\n",
    "        ref_chs='average',\n",
    "        filter_bounds=None,\n",
    "        verbose=False\n",
    "    )       \n",
    "    return eeg_data.get_data()[:, :39707]\n",
    "\n",
    "all_eeg_data = [load_subject_data(subj) for subj in relax_ses['bids_id'].unique()[:-1]]\n",
    "clear_output()"
   ]
  },
  {
   "attachments": {},
   "cell_type": "markdown",
   "metadata": {},
   "source": [
    "## hypnotist's data"
   ]
  },
  {
   "cell_type": "code",
   "execution_count": null,
   "metadata": {},
   "outputs": [],
   "source": [
    "# open data and pick eeg channels\n",
    "from pathlib import Path\n",
    "hypotist_path = Path('~/Codes/otka_data/EEG/hypnotist/Relaxation_whole.vhdr').expanduser()\n",
    "hypnotist_raw = mne.io.read_raw_brainvision(hypotist_path,\n",
    "                                  misc=['EMG1', 'EMG2', 'EMG3', 'ECG'],\n",
    "                                  eog=['EOG1', 'EOG2'],\n",
    "                                  verbose=False)\n",
    "hypnotist_raw.pick_types(eeg=True)\n",
    "\n",
    "# CUT: time onsets determined by visual inspection of the raw data (see src/b2bnet/inspect_hypnotist_data.py)\n",
    "tmax = 424\n",
    "tmin = 84\n",
    "hypnotist_raw.crop(tmin=tmin, tmax=tmax)\n",
    "\n",
    "hypnotist_raw.resample(120)\n",
    "\n",
    "hypnotist_raw.add_reference_channels(ref_channels='FCz')\n",
    "hypnotist_raw.set_eeg_reference(ref_channels='average', verbose=False)"
   ]
  },
  {
   "cell_type": "code",
   "execution_count": 95,
   "metadata": {},
   "outputs": [],
   "source": [
    "# merge datasets and save\n",
    "ds = xr.Dataset({'hypnotee': (['subject', 'channel', 'timestep_hypnotee'], all_eeg_data),\n",
    "                 'hypnotist': (['channel', 'timestep_hypnotist'], hypnotist_raw.get_data()),\n",
    "                 'y_class': (['subject'], y_class.values)})\n",
    "ds.to_netcdf('data/otka.nc5', engine='h5netcdf')\n",
    "ds.close()"
   ]
  }
 ],
 "metadata": {
  "kernelspec": {
   "display_name": "b2bnet",
   "language": "python",
   "name": "python3"
  },
  "language_info": {
   "codemirror_mode": {
    "name": "ipython",
    "version": 3
   },
   "file_extension": ".py",
   "mimetype": "text/x-python",
   "name": "python",
   "nbconvert_exporter": "python",
   "pygments_lexer": "ipython3",
   "version": "3.10.10"
  },
  "orig_nbformat": 4
 },
 "nbformat": 4,
 "nbformat_minor": 2
}
