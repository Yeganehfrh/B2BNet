{
 "cells": [
  {
   "attachments": {},
   "cell_type": "markdown",
   "metadata": {},
   "source": [
    "# Prepare Input\n",
    "\n",
    "This notebook create xarray dataset to be used as the input to the B2BNet DL model."
   ]
  },
  {
   "attachments": {},
   "cell_type": "markdown",
   "metadata": {},
   "source": [
    "## Participants"
   ]
  },
  {
   "cell_type": "code",
   "execution_count": 40,
   "metadata": {},
   "outputs": [],
   "source": [
    "# Setups\n",
    "%reload_ext autoreload\n",
    "%autoreload 3\n",
    "\n",
    "from src.b2bnet.data.prepare_data import preprocess_data\n",
    "\n",
    "import numpy as np\n",
    "import mne\n",
    "from pathlib import Path\n",
    "import xarray as xr\n",
    "import pandas as pd\n",
    "\n",
    "# read BIDS dataset from external drive\n",
    "eeg_path = '/Volumes/Extreme SSD/PhD/OTKA study1/EEG data/BIDS/'\n",
    "\n",
    "# collector dataset\n",
    "ds = xr.Dataset()"
   ]
  },
  {
   "cell_type": "code",
   "execution_count": null,
   "metadata": {},
   "outputs": [],
   "source": [
    "# Find relaxation session number (The dataset only include the relaxation procedure)\n",
    "data = pd.read_csv('data/behavioral/behavioral_data.csv')\n",
    "relax_ses = data.query('procedure == \"relaxation\"')[['bids_id', 'session']].reset_index(drop=True)\n",
    "\n",
    "# Change bids id to match file names\n",
    "relax_ses['bids_id'] = relax_ses['bids_id'].astype('int').astype('str').str.zfill(2)"
   ]
  },
  {
   "cell_type": "code",
   "execution_count": null,
   "metadata": {},
   "outputs": [],
   "source": [
    "# open relaxation eeg files\n",
    "for sub in relax_ses['bids_id'].unique()[:-1]:  # exclude sub_52 because of missing data\n",
    "    task = 'induction' + str(relax_ses.query('bids_id == @sub')['session'].values[0])\n",
    "    eeg_data = preprocess_data(\n",
    "        path=eeg_path,\n",
    "        subject=sub,\n",
    "        task=task,\n",
    "        resampling_frq=120,\n",
    "        ref_chs='average',\n",
    "        filter_bounds=(1, 50),\n",
    "        verbose=False\n",
    "    )\n",
    "    # create a xarray\n",
    "    da = xr.DataArray(\n",
    "    data=eeg_data.get_data(),\n",
    "    dims=[\"channels\", \"time\"],\n",
    "    coords={\n",
    "        \"channels\": eeg_data.ch_names,\n",
    "        \"time\": np.arange(0, eeg_data.get_data().shape[1])\n",
    "                          }\n",
    "    )\n",
    "    \n",
    "    ds = ds.update({f'sub_{sub}': da})\n",
    "    \n",
    "## save dataset\n",
    "# ds.to_netcdf('data/input.nc')"
   ]
  }
 ],
 "metadata": {
  "kernelspec": {
   "display_name": "b2bnet",
   "language": "python",
   "name": "python3"
  },
  "language_info": {
   "codemirror_mode": {
    "name": "ipython",
    "version": 3
   },
   "file_extension": ".py",
   "mimetype": "text/x-python",
   "name": "python",
   "nbconvert_exporter": "python",
   "pygments_lexer": "ipython3",
   "version": "3.10.10"
  },
  "orig_nbformat": 4
 },
 "nbformat": 4,
 "nbformat_minor": 2
}
