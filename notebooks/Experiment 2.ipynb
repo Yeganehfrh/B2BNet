{
 "cells": [
  {
   "cell_type": "markdown",
   "metadata": {},
   "source": [
    "# Experiment 2\n",
    "In this experiment, we use the embedding from the model trained in **experiment 1** to perform classification to decode the hypnotic depth as well as reconstruct the EEG signals recorded from the hypnotist (B2B head)."
   ]
  },
  {
   "cell_type": "code",
   "execution_count": 2,
   "metadata": {},
   "outputs": [],
   "source": [
    "%reload_ext autoreload\n",
    "%autoreload 3\n",
    "\n",
    "import pytorch_lightning as pl\n",
    "from src.b2bnet import OtkaTimeDimSplit\n",
    "from src.b2bnet.models.classifier import Classifier"
   ]
  },
  {
   "cell_type": "code",
   "execution_count": 6,
   "metadata": {},
   "outputs": [],
   "source": [
    "# Parameters\n",
    "segment_size = 120 * 3 # 3sec\n",
    "batch_size = 256\n",
    "n_channels = 58\n",
    "space_embedding_dim = 8\n",
    "time_embedding_dim = 16\n",
    "max_epochs = 10000\n",
    "\n",
    "# model params\n",
    "data_mode = 'reconn'\n",
    "b2b_data = 'hypnotist'\n",
    "with_b2b_head = True\n",
    "b2b = 'decoder'\n",
    "max_epochs = 1100"
   ]
  },
  {
   "cell_type": "code",
   "execution_count": null,
   "metadata": {},
   "outputs": [],
   "source": [
    "# Data\n",
    "datamodule = OtkaTimeDimSplit(segment_size=segment_size, batch_size=batch_size, b2b_data=b2b_data,\n",
    "                              data_mode=data_mode)\n",
    "# Fine-tune classifier\n",
    "pretrained_encoder_checkpoint_path = 'models/b2bnet_segment-360_epochs-778.ckpt'\n",
    "\n",
    "cls_model = Classifier(pretrained_encoder_checkpoint_path, n_labels=2, with_b2b_head=with_b2b_head)\n",
    "finetune_trainer = pl.Trainer(max_epochs=max_epochs,\n",
    "                              accelerator='cpu',\n",
    "                              log_every_n_steps=1, deterministic='warn')\n",
    "\n",
    "finetune_trainer.fit(cls_model, datamodule=datamodule)"
   ]
  },
  {
   "cell_type": "code",
   "execution_count": null,
   "metadata": {},
   "outputs": [],
   "source": [
    "# # Load model\n",
    "# model = B2BNetSpaceTimeModel.load_from_checkpoint('models/b2bnet_segment-120_epochs-9999.ckpt')"
   ]
  }
 ],
 "metadata": {
  "kernelspec": {
   "display_name": "b2bnet",
   "language": "python",
   "name": "python3"
  },
  "language_info": {
   "codemirror_mode": {
    "name": "ipython",
    "version": 3
   },
   "file_extension": ".py",
   "mimetype": "text/x-python",
   "name": "python",
   "nbconvert_exporter": "python",
   "pygments_lexer": "ipython3",
   "version": "3.10.12"
  },
  "orig_nbformat": 4
 },
 "nbformat": 4,
 "nbformat_minor": 2
}
