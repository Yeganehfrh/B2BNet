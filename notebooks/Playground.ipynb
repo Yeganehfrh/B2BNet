{
 "cells": [
  {
   "attachments": {},
   "cell_type": "markdown",
   "metadata": {},
   "source": [
    "# Playground"
   ]
  },
  {
   "attachments": {},
   "cell_type": "markdown",
   "metadata": {},
   "source": [
    "## GNN\n",
    "This code receives multiple timeseries, transforms them into graphs, and then applies a GNN to them.\n",
    "The graph embeddings are then used for downstream tasks."
   ]
  },
  {
   "cell_type": "code",
   "execution_count": 1,
   "metadata": {},
   "outputs": [],
   "source": [
    "%reload_ext autoreload\n",
    "%autoreload 3\n",
    "\n",
    "import torch\n",
    "from torch import nn\n",
    "import torch.nn.functional as F\n",
    "from torchinfo import summary\n",
    "import pytorch_lightning as pl\n",
    "from src.b2bnet import B2BNetModel, RandomDataModule, OtkaDataModule\n",
    "from pytorch_lightning.loggers import TensorBoardLogger"
   ]
  },
  {
   "cell_type": "code",
   "execution_count": null,
   "metadata": {},
   "outputs": [],
   "source": [
    "import xarray as xr\n",
    "\n",
    "ds = xr.open_dataset('data/otka.nc5')\n",
    "X_input = torch.from_numpy(ds['hypnotee'].values).float().permute(0, 2, 1)"
   ]
  },
  {
   "cell_type": "code",
   "execution_count": null,
   "metadata": {},
   "outputs": [],
   "source": [
    "segment_size = 120*1\n",
    "batch_size = 32\n",
    "\n",
    "datamodule = OtkaDataModule(segment_size=segment_size, batch_size=batch_size)\n",
    "model = B2BNetModel(\n",
    "    input_size=59,\n",
    "    n_timesteps=segment_size,\n",
    "    n_cls_labels=2,\n",
    "    hidden_size=32,\n",
    "    n_subjects=51)\n",
    "\n",
    "# summary(model)\n",
    "# TRAINING\n",
    "trainer = pl.Trainer(max_epochs=100, accelerator='auto', log_every_n_steps=1, enable_checkpointing=True)\n",
    "trainer.fit(model, datamodule=datamodule, ckpt_path='last')"
   ]
  },
  {
   "attachments": {},
   "cell_type": "markdown",
   "metadata": {},
   "source": [
    "## TCN"
   ]
  },
  {
   "cell_type": "code",
   "execution_count": null,
   "metadata": {},
   "outputs": [],
   "source": [
    "%reload_ext autoreload\n",
    "%autoreload 3\n",
    "\n",
    "import torch\n",
    "from src.b2bnet import TCN\n",
    "from torchinfo import summary"
   ]
  },
  {
   "cell_type": "code",
   "execution_count": null,
   "metadata": {},
   "outputs": [],
   "source": [
    "batch_size = 32\n",
    "n_timesteps = 128 * 320\n",
    "n_features = 59\n",
    "X = torch.randn(batch_size, n_timesteps, n_features).permute(0, 2, 1)\n",
    "model = TCN(n_timesteps, output_length=128, n_features=n_features, kernel_size=8, dilation_base=2)\n",
    "model(X).shape"
   ]
  },
  {
   "attachments": {},
   "cell_type": "markdown",
   "metadata": {},
   "source": [
    "## LSTM Autoencoder"
   ]
  },
  {
   "cell_type": "code",
   "execution_count": null,
   "metadata": {},
   "outputs": [],
   "source": [
    "# Imports\n",
    "\n",
    "import torch\n",
    "from torch import nn\n",
    "import pytorch_lightning as pl\n",
    "from src.b2bnet import OtkaDataModule"
   ]
  },
  {
   "cell_type": "code",
   "execution_count": null,
   "metadata": {},
   "outputs": [],
   "source": [
    "# Model\n",
    "\n",
    "class Autoencoder(pl.LightningModule):\n",
    "    def __init__(self, n_features=8, hidden_size=8):\n",
    "        super().__init__()\n",
    "\n",
    "        self.hidden_size = hidden_size\n",
    "\n",
    "        self.encoder = nn.LSTM(n_features, hidden_size, batch_first=True)\n",
    "        self.decoder = nn.LSTM(hidden_size, n_features, batch_first=True)\n",
    "        self.fc_decoder = nn.Linear(n_features, n_features)\n",
    "        \n",
    "        # b2b head\n",
    "        self.b2b = nn.LSTM(hidden_size, n_features, batch_first=True)\n",
    "        self.fc_decoder = nn.Linear(n_features, n_features)\n",
    "        \n",
    "        # classifier head\n",
    "        self.cls = nn.Linear(hidden_size, 2)\n",
    "\n",
    "    def forward(self, x):\n",
    "        batch_size = x.size(0)\n",
    "        n_timesteps = x.size(1)\n",
    "        \n",
    "        # autoencoder\n",
    "        y_enc, (h_enc, c_enc) = self.encoder(x)\n",
    "        x_enc = torch.rand(batch_size, n_timesteps, self.hidden_size)\n",
    "        y_dec, (h_dec, c_dec) = self.decoder(x_enc, (h_enc, c_enc))\n",
    "        y_hat = self.fc_decoder(y_dec)\n",
    "        \n",
    "        # b2b head\n",
    "        y_b2b, (h_b2b, c_b2b) = self.b2b(x_enc, (h_enc, c_enc))\n",
    "        \n",
    "        # classifier head\n",
    "        y_cls = self.cls(h_enc[-1, :, :])  # last hidden state of encoder\n",
    "        \n",
    "        return y_dec, y_b2b, y_cls\n",
    "\n",
    "    def training_step(self, batch, batch_idx):\n",
    "        X, subject_ids, y_b2b, y_cls = batch\n",
    "        X_recon, y_b2b_hat, y_cls_hat = self(X)\n",
    "        # loss\n",
    "        loss_reconn = nn.functional.mse_loss(X_recon, X)\n",
    "        loss_b2b = nn.functional.mse_loss(y_b2b_hat, y_b2b)\n",
    "        loss_cls = nn.functional.cross_entropy(y_cls_hat, y_cls)\n",
    "        loss = loss_reconn + loss_b2b + loss_cls\n",
    "        #logging\n",
    "        self.log('train/loss_reconn', loss_reconn)\n",
    "        self.log('train/loss_b2b', loss_b2b)\n",
    "        self.log('train/loss_cls', loss_cls)\n",
    "        self.log('train/acc', (y_cls_hat.argmax(dim=1) == y_cls).float().mean())\n",
    "        self.log('train/loss', loss)\n",
    "        return loss\n",
    "\n",
    "    def validation_step(self, batch, batch_idx):\n",
    "        X, subject_ids, y_b2b, y_cls = batch\n",
    "        X_recon, y_b2b_hat, y_cls_hat = self(X)\n",
    "        # loss\n",
    "        loss_reconn = nn.functional.mse_loss(X_recon, X)\n",
    "        loss_b2b = nn.functional.mse_loss(y_b2b_hat, y_b2b)\n",
    "        loss_cls = nn.functional.cross_entropy(y_cls_hat, y_cls)\n",
    "        loss = loss_reconn + loss_b2b + loss_cls\n",
    "        #logging\n",
    "        self.log('val/loss_reconn', loss_reconn)\n",
    "        self.log('val/loss_b2b', loss_b2b)\n",
    "        self.log('val/loss_cls', loss_cls)\n",
    "        self.log('val/acc', (y_cls_hat.argmax(dim=1) == y_cls).float().mean())\n",
    "        self.log('val/loss', loss)\n",
    "        return loss\n",
    "\n",
    "    def configure_optimizers(self):\n",
    "        return torch.optim.Adam(self.parameters(), lr=1e-2)"
   ]
  },
  {
   "cell_type": "code",
   "execution_count": null,
   "metadata": {},
   "outputs": [],
   "source": [
    "# Experiment\n",
    "\n",
    "segment_size = 120 * 1  # 1sec\n",
    "batch_size = 256\n",
    "n_features = 59\n",
    "hidden_size = 59\n",
    "max_epochs = 10\n",
    "\n",
    "datamodule = OtkaDataModule(segment_size=segment_size, batch_size=batch_size)\n",
    "\n",
    "model = Autoencoder(n_features=n_features, hidden_size=hidden_size)\n",
    "\n",
    "trainer = pl.Trainer(max_epochs=max_epochs,accelerator='cpu', log_every_n_steps=1)\n",
    "\n",
    "trainer.fit(model, datamodule=datamodule)"
   ]
  }
 ],
 "metadata": {
  "kernelspec": {
   "display_name": "b2bnet",
   "language": "python",
   "name": "python3"
  },
  "language_info": {
   "codemirror_mode": {
    "name": "ipython",
    "version": 3
   },
   "file_extension": ".py",
   "mimetype": "text/x-python",
   "name": "python",
   "nbconvert_exporter": "python",
   "pygments_lexer": "ipython3",
   "version": "3.10.10"
  },
  "orig_nbformat": 4
 },
 "nbformat": 4,
 "nbformat_minor": 2
}
