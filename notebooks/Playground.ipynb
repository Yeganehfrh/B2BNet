{
 "cells": [
  {
   "attachments": {},
   "cell_type": "markdown",
   "metadata": {},
   "source": [
    "# Playground"
   ]
  },
  {
   "cell_type": "code",
   "execution_count": 1,
   "metadata": {},
   "outputs": [],
   "source": [
    "%reload_ext autoreload\n",
    "%autoreload 3\n",
    "\n",
    "import torch\n",
    "from torch import nn\n",
    "import torch.nn.functional as F\n",
    "from torchinfo import summary\n",
    "import pytorch_lightning as pl\n",
    "from src.b2bnet import B2BNetModel, RandomDataModule, OtkaDataModule\n",
    "from pytorch_lightning.loggers import TensorBoardLogger"
   ]
  },
  {
   "attachments": {},
   "cell_type": "markdown",
   "metadata": {},
   "source": [
    "## LSTM Autoencoder"
   ]
  },
  {
   "cell_type": "code",
   "execution_count": null,
   "metadata": {},
   "outputs": [],
   "source": [
    "# Model\n",
    "\n",
    "class Autoencoder(pl.LightningModule):\n",
    "    def __init__(self, n_features, hidden_size, n_subjects, subject_embedding_dim=4):\n",
    "        super().__init__()\n",
    "\n",
    "        self.hidden_size = hidden_size\n",
    "        self.subject_embedding_dim = subject_embedding_dim\n",
    "        \n",
    "        # subject embedding\n",
    "        self.subject_embedding = nn.Embedding(n_subjects, subject_embedding_dim)\n",
    "        self.encoder = nn.LSTM(n_features+subject_embedding_dim, hidden_size, batch_first=True)\n",
    "        self.relu = nn.ReLU()\n",
    "        self.decoder = nn.LSTM(hidden_size, n_features+subject_embedding_dim, batch_first=True)\n",
    "        self.fc_decoder = nn.Linear(n_features+subject_embedding_dim, n_features)\n",
    "        \n",
    "        # # b2b head\n",
    "        # self.b2b_decoder = nn.LSTM(hidden_size, n_features+subject_embedding_dim, batch_first=True)\n",
    "        # self.fc_b2b_decoder = nn.Linear(n_features+subject_embedding_dim, n_features)\n",
    "        \n",
    "        # classifier head\n",
    "        self.cls = nn.Linear(hidden_size, 2)\n",
    "\n",
    "    def forward(self, x, subject_ids=None):\n",
    "        batch_size = x.size(0)\n",
    "        n_timesteps = x.size(1)\n",
    "        \n",
    "        # append subject embedding\n",
    "        if subject_ids is not None:\n",
    "            subject_features = self.subject_embedding(subject_ids)\n",
    "            subject_features = subject_features.repeat(1, x.shape[1], 1)\n",
    "            x_emb = torch.cat([x, subject_features], dim=2)\n",
    "        # autoencoder\n",
    "\n",
    "        y_enc, (h_enc, c_enc) = self.encoder(x_emb)\n",
    "        x_enc = torch.rand(batch_size, n_timesteps, self.hidden_size)\n",
    "        h_enc, c_enc = self.relu(h_enc), self.relu(c_enc)\n",
    "        y_dec, (h_dec, c_dec) = self.decoder(x_enc, (h_enc, c_enc))\n",
    "        y_dec = self.relu(y_dec)\n",
    "        y_dec = self.fc_decoder(y_dec)\n",
    "        \n",
    "        # # b2b head\n",
    "        # x_enc_b2b = torch.rand(batch_size, n_timesteps, self.hidden_size)\n",
    "        # y_b2b, (h_b2b, c_b2b) = self.b2b_decoder(x_enc_b2b, (h_enc, c_enc))\n",
    "        # y_b2b = self.fc_b2b_decoder(y_b2b)\n",
    "        \n",
    "        # classifier head\n",
    "        y_cls = self.cls(h_enc[-1, :, :])  # last hidden state of encoder\n",
    "        \n",
    "        return y_dec, y_cls #, y_b2b\n",
    "\n",
    "    def training_step(self, batch, batch_idx):\n",
    "        X, subject_ids, y_b2b, y_cls = batch\n",
    "        X_recon, y_cls_hat = self(X, subject_ids)\n",
    "        # loss\n",
    "        loss_reconn = nn.functional.mse_loss(X_recon, X)\n",
    "        # loss_b2b = nn.functional.mse_loss(y_b2b_hat, y_b2b)\n",
    "        loss_cls = nn.functional.cross_entropy(y_cls_hat, y_cls)\n",
    "        loss = loss_reconn + loss_cls # + loss_b2b\n",
    "        #logging\n",
    "        self.log('train/loss_reconn', loss_reconn)\n",
    "        # self.log('train/loss_b2b', loss_b2b)\n",
    "        self.log('train/loss_cls', loss_cls)\n",
    "        self.log('train/accuracy', (y_cls_hat.argmax(dim=1) == y_cls).float().mean())\n",
    "        self.log('train/loss', loss)\n",
    "        return loss\n",
    "\n",
    "    def validation_step(self, batch, batch_idx):\n",
    "        X, subject_ids, y_b2b, y_cls = batch\n",
    "        X_recon, y_cls_hat = self(X, subject_ids)\n",
    "        # loss\n",
    "        loss_reconn = nn.functional.mse_loss(X_recon, X)\n",
    "        # loss_b2b = nn.functional.mse_loss(y_b2b_hat, y_b2b)\n",
    "        loss_cls = nn.functional.cross_entropy(y_cls_hat, y_cls)\n",
    "        loss = loss_reconn + loss_cls #+ loss_b2b\n",
    "        #logging\n",
    "        self.log('val/loss_reconn', loss_reconn)\n",
    "        # self.log('val/loss_b2b', loss_b2b)\n",
    "        self.log('val/loss_cls', loss_cls)\n",
    "        self.log('val/accuracy', (y_cls_hat.argmax(dim=1) == y_cls).float().mean())\n",
    "        self.log('val/loss', loss)\n",
    "        return loss\n",
    "\n",
    "    def configure_optimizers(self):\n",
    "        return torch.optim.Adam(self.parameters(), lr=1e-2)"
   ]
  },
  {
   "cell_type": "code",
   "execution_count": null,
   "metadata": {},
   "outputs": [],
   "source": [
    "# Experiment\n",
    "\n",
    "segment_size = 120 * 3  # 3sec\n",
    "batch_size = 256\n",
    "n_features = 59\n",
    "hidden_size = 59+4\n",
    "max_epochs = 100\n",
    "\n",
    "datamodule = OtkaDataModule(segment_size=segment_size, batch_size=batch_size)\n",
    "\n",
    "model = Autoencoder(n_features=n_features, hidden_size=hidden_size, n_subjects=51)\n",
    "\n",
    "trainer = pl.Trainer(max_epochs=max_epochs,accelerator='cpu', log_every_n_steps=1)\n",
    "\n",
    "trainer.fit(model, datamodule=datamodule)"
   ]
  },
  {
   "attachments": {},
   "cell_type": "markdown",
   "metadata": {},
   "source": [
    "## GNN\n",
    "TODO: This code receives multiple timeseries, transforms them into graphs, and then applies a GNN to them. The graph embeddings are then used for downstream tasks."
   ]
  }
 ],
 "metadata": {
  "kernelspec": {
   "display_name": "b2bnet",
   "language": "python",
   "name": "python3"
  },
  "language_info": {
   "codemirror_mode": {
    "name": "ipython",
    "version": 3
   },
   "file_extension": ".py",
   "mimetype": "text/x-python",
   "name": "python",
   "nbconvert_exporter": "python",
   "pygments_lexer": "ipython3",
   "version": "3.10.10"
  },
  "orig_nbformat": 4
 },
 "nbformat": 4,
 "nbformat_minor": 2
}
