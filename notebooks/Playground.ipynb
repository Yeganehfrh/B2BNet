{
 "cells": [
  {
   "attachments": {},
   "cell_type": "markdown",
   "metadata": {},
   "source": [
    "# Playground"
   ]
  },
  {
   "attachments": {},
   "cell_type": "markdown",
   "metadata": {},
   "source": [
    "## GNN DEMO\n",
    "This code receives multiple timeseries, transforms them into graphs, and then applies a GNN to them.\n",
    "The graph embeddings are then used for downstream tasks."
   ]
  },
  {
   "cell_type": "code",
   "execution_count": 1,
   "metadata": {},
   "outputs": [],
   "source": [
    "%reload_ext autoreload\n",
    "%autoreload 3\n",
    "\n",
    "import torch\n",
    "from torch import nn\n",
    "import pytorch_lightning as pl"
   ]
  },
  {
   "cell_type": "code",
   "execution_count": 2,
   "metadata": {},
   "outputs": [],
   "source": [
    "# DATA\n",
    "class MyDataModule(pl.LightningDataModule):\n",
    "    def prepare_data(self):\n",
    "        X_input = torch.randn(50, 128*60, 58)\n",
    "        X_output = torch.randn(1, 128*60, 58).repeat(50, 1, 1)\n",
    "        y_class = torch.randint(low=0, high=3, size=(50,))\n",
    "        y_text = torch.randn(50, 1024)\n",
    "\n",
    "        self.train_dataset = torch.utils.data.TensorDataset(X_input, X_output, y_class, y_text)\n",
    "        self.val_dataset = torch.utils.data.TensorDataset(X_input, X_output, y_class, y_text)\n",
    "        \n",
    "    def train_dataloader(self):\n",
    "        return torch.utils.data.DataLoader(self.train_dataset, batch_size=32)\n",
    "\n",
    "    def val_dataloader(self):\n",
    "        return torch.utils.data.DataLoader(self.val_dataset, batch_size=32)"
   ]
  },
  {
   "cell_type": "code",
   "execution_count": 18,
   "metadata": {},
   "outputs": [],
   "source": [
    "# MODEL\n",
    "class MyModel(pl.LightningModule):\n",
    "    def __init__(self):\n",
    "        super().__init__()\n",
    "        self.rnn = nn.RNN(input_size=58, hidden_size=2, num_layers=1, batch_first=True)\n",
    "        self.fc = nn.Linear(2, 3)\n",
    "        self.loss = nn.CrossEntropyLoss()\n",
    "    \n",
    "    def forward(self, x):\n",
    "        h, y = self.rnn(x)\n",
    "        y = self.fc(y)\n",
    "        y = y.permute(1, 0, 2).squeeze(1)\n",
    "        # y = torch.argmax(y, dim=2).to(torch.float)\n",
    "        return y\n",
    "    \n",
    "    def training_step(self, batch, batch_idx):\n",
    "        X_input, X_output, y_class, y_text = batch\n",
    "        y_hat = self(X_input)\n",
    "        loss = self.loss(y_hat, y_class)\n",
    "        self.log('train/loss', loss)\n",
    "        return loss\n",
    "    \n",
    "    def validation_step(self, batch, batch_idx):\n",
    "        X_input, X_output, y_class, y_text = batch\n",
    "        y_hat = self(X_input)\n",
    "        loss = self.loss(y_hat, y_class)\n",
    "        self.log('val/loss', loss)\n",
    "        return loss\n",
    "    \n",
    "    def configure_optimizers(self):\n",
    "        return torch.optim.Adam(self.parameters(), lr=1e-3)"
   ]
  },
  {
   "cell_type": "code",
   "execution_count": 19,
   "metadata": {},
   "outputs": [
    {
     "name": "stderr",
     "output_type": "stream",
     "text": [
      "GPU available: True (mps), used: False\n",
      "TPU available: False, using: 0 TPU cores\n",
      "IPU available: False, using: 0 IPUs\n",
      "HPU available: False, using: 0 HPUs\n",
      "\n",
      "  | Name | Type             | Params\n",
      "------------------------------------------\n",
      "0 | rnn  | RNN              | 124   \n",
      "1 | fc   | Linear           | 9     \n",
      "2 | loss | CrossEntropyLoss | 0     \n",
      "------------------------------------------\n",
      "133       Trainable params\n",
      "0         Non-trainable params\n",
      "133       Total params\n",
      "0.001     Total estimated model params size (MB)\n"
     ]
    },
    {
     "data": {
      "application/vnd.jupyter.widget-view+json": {
       "model_id": "7aab683dab23493ab4a6d63467ac61ba",
       "version_major": 2,
       "version_minor": 0
      },
      "text/plain": [
       "Sanity Checking: 0it [00:00, ?it/s]"
      ]
     },
     "metadata": {},
     "output_type": "display_data"
    },
    {
     "data": {
      "application/vnd.jupyter.widget-view+json": {
       "model_id": "08bd286e246b4dc69565c21ee269a00a",
       "version_major": 2,
       "version_minor": 0
      },
      "text/plain": [
       "Training: 0it [00:00, ?it/s]"
      ]
     },
     "metadata": {},
     "output_type": "display_data"
    },
    {
     "data": {
      "application/vnd.jupyter.widget-view+json": {
       "model_id": "6e8e20a99b514e6286deacd99ec5289f",
       "version_major": 2,
       "version_minor": 0
      },
      "text/plain": [
       "Validation: 0it [00:00, ?it/s]"
      ]
     },
     "metadata": {},
     "output_type": "display_data"
    }
   ],
   "source": [
    "# TRAINING\n",
    "model = MyModel()\n",
    "datamodule = MyDataModule()\n",
    "trainer = pl.Trainer(max_epochs=50, accelerator='cpu', logger=True, log_every_n_steps=1)\n",
    "\n",
    "trainer.fit(model, datamodule=datamodule)"
   ]
  }
 ],
 "metadata": {
  "kernelspec": {
   "display_name": "b2bnet",
   "language": "python",
   "name": "python3"
  },
  "language_info": {
   "codemirror_mode": {
    "name": "ipython",
    "version": 3
   },
   "file_extension": ".py",
   "mimetype": "text/x-python",
   "name": "python",
   "nbconvert_exporter": "python",
   "pygments_lexer": "ipython3",
   "version": "3.10.10"
  },
  "orig_nbformat": 4
 },
 "nbformat": 4,
 "nbformat_minor": 2
}
