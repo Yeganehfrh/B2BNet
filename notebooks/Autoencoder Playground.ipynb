{
 "cells": [
  {
   "cell_type": "code",
   "execution_count": null,
   "metadata": {},
   "outputs": [],
   "source": [
    "# Imports\n",
    "\n",
    "import torch\n",
    "from torch import nn\n",
    "import pytorch_lightning as pl\n",
    "from src.b2bnet import OtkaDataModule"
   ]
  },
  {
   "cell_type": "code",
   "execution_count": null,
   "metadata": {},
   "outputs": [],
   "source": [
    "# Model\n",
    "\n",
    "class Autoencoder(pl.LightningModule):\n",
    "    def __init__(self, n_features=8, hidden_size=8):\n",
    "        super().__init__()\n",
    "\n",
    "        self.hidden_size = hidden_size\n",
    "\n",
    "        self.encoder = nn.LSTM(n_features, hidden_size, batch_first=True)\n",
    "        self.decoder = nn.LSTM(hidden_size, n_features, batch_first=True)\n",
    "        self.fc_decoder = nn.Linear(n_features, n_features)\n",
    "\n",
    "    def forward(self, x):\n",
    "        batch_size = x.size(0)\n",
    "        n_timesteps = x.size(1)\n",
    "        y_enc, (h_enc, c_enc) = self.encoder(x)\n",
    "        x_enc = torch.rand(batch_size, n_timesteps, self.hidden_size)\n",
    "        y_dec, (h_dec, c_dec) = self.decoder(x_enc, (h_enc, c_enc))\n",
    "        y_hat = self.fc_decoder(y_dec)\n",
    "        return y_dec\n",
    "\n",
    "    def training_step(self, batch, batch_idx):\n",
    "        X, subject_ids, y_b2b, y_cls = batch\n",
    "        X_recon = self(X)\n",
    "        loss = nn.functional.mse_loss(X_recon, X)\n",
    "        self.log('train/loss', loss)\n",
    "        return loss\n",
    "\n",
    "    def validation_step(self, batch, batch_idx):\n",
    "        X, subject_ids, y_b2b, y_cls = batch\n",
    "        X_recon = self(X)\n",
    "        loss = nn.functional.mse_loss(X_recon, X)\n",
    "        self.log('val/loss', loss)\n",
    "        return loss\n",
    "\n",
    "    def configure_optimizers(self):\n",
    "        return torch.optim.Adam(self.parameters(), lr=1e-2)"
   ]
  },
  {
   "cell_type": "code",
   "execution_count": null,
   "metadata": {},
   "outputs": [],
   "source": [
    "# Experiment\n",
    "\n",
    "segment_size = 120\n",
    "batch_size = 256\n",
    "n_timesteps = 120*10  # 10 sec\n",
    "n_features = 59\n",
    "hidden_size = 59\n",
    "max_epochs = 100\n",
    "\n",
    "datamodule = OtkaDataModule(segment_size=segment_size, batch_size=batch_size)\n",
    "\n",
    "model = Autoencoder(n_features=n_features, hidden_size=hidden_size)\n",
    "\n",
    "trainer = pl.Trainer(max_epochs=max_epochs,accelerator='auto', log_every_n_steps=1)\n",
    "\n",
    "trainer.fit(model, datamodule=datamodule)"
   ]
  }
 ],
 "metadata": {
  "kernelspec": {
   "display_name": "b2bnet",
   "language": "python",
   "name": "python3"
  },
  "language_info": {
   "codemirror_mode": {
    "name": "ipython",
    "version": 3
   },
   "file_extension": ".py",
   "mimetype": "text/x-python",
   "name": "python",
   "nbconvert_exporter": "python",
   "pygments_lexer": "ipython3",
   "version": "3.10.10"
  },
  "orig_nbformat": 4
 },
 "nbformat": 4,
 "nbformat_minor": 2
}
