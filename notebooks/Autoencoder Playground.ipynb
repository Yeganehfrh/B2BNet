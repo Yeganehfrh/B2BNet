{
 "cells": [
  {
   "cell_type": "code",
   "execution_count": null,
   "metadata": {},
   "outputs": [],
   "source": [
    "# Imports\n",
    "\n",
    "import torch\n",
    "from torch import nn\n",
    "import pytorch_lightning as pl"
   ]
  },
  {
   "cell_type": "code",
   "execution_count": null,
   "metadata": {},
   "outputs": [],
   "source": [
    "# Data\n",
    "\n",
    "class RandomDataModule(pl.LightningDataModule):\n",
    "    def __init__(self, n_segments=1000, n_timesteps=100, n_features=8, batch_size=32):\n",
    "        super().__init__()\n",
    "        self.n_segments = n_segments\n",
    "        self.n_timesteps = n_timesteps\n",
    "        self.n_features = n_features\n",
    "        self.batch_size = batch_size\n",
    "\n",
    "    def setup(self, stage=None):\n",
    "        self.train_dataset = torch.randn(self.n_segments, self.n_timesteps, self.n_features)\n",
    "        self.val_dataset = torch.randn(self.n_segments, self.n_timesteps, self.n_features)\n",
    "\n",
    "    def train_dataloader(self):\n",
    "        return torch.utils.data.DataLoader(self.train_dataset, batch_size=self.batch_size)\n",
    "\n",
    "    def val_dataloader(self):\n",
    "        return torch.utils.data.DataLoader(self.val_dataset, batch_size=self.batch_size)"
   ]
  },
  {
   "cell_type": "code",
   "execution_count": null,
   "metadata": {},
   "outputs": [],
   "source": [
    "# Model\n",
    "\n",
    "class Autoencoder(pl.LightningModule):\n",
    "    def __init__(self, n_features=8, hidden_size=8):\n",
    "        super().__init__()\n",
    "\n",
    "        self.hidden_size = hidden_size\n",
    "\n",
    "        self.encoder = nn.LSTM(n_features, hidden_size, batch_first=True)\n",
    "        self.decoder = nn.LSTM(hidden_size, n_features, batch_first=True)\n",
    "\n",
    "    def forward(self, x):\n",
    "        batch_size = x.size(0)\n",
    "        n_timesteps = x.size(1)\n",
    "        y_enc, (h_enc, c_enc) = self.encoder(x)\n",
    "        x_enc = torch.rand(batch_size, n_timesteps, self.hidden_size)\n",
    "        y_dec, (h_dec, c_dec) = self.decoder(x_enc, (h_enc, c_enc))\n",
    "        return y_dec\n",
    "\n",
    "    def training_step(self, batch, batch_idx):\n",
    "        X = batch\n",
    "        X_reconn = self(X)\n",
    "        loss = nn.functional.mse_loss(X_reconn, X)\n",
    "        self.log('train/loss', loss)\n",
    "        return loss\n",
    "\n",
    "    def validation_step(self, batch, batch_idx):\n",
    "        X = batch\n",
    "        X_reconn = self(X)\n",
    "        loss = nn.functional.mse_loss(X_reconn, X)\n",
    "        self.log('val/loss', loss)\n",
    "        return loss\n",
    "\n",
    "    def configure_optimizers(self):\n",
    "        return torch.optim.Adam(self.parameters(), lr=1e-2)"
   ]
  },
  {
   "cell_type": "code",
   "execution_count": null,
   "metadata": {},
   "outputs": [],
   "source": [
    "# Experiment\n",
    "\n",
    "n_segments = 1000\n",
    "n_timesteps = 120*10  # 10 sec\n",
    "n_features = 59\n",
    "hidden_size = 59\n",
    "\n",
    "datamodule = RandomDataModule(n_segments, n_timesteps, n_features)\n",
    "\n",
    "model = Autoencoder(n_features=n_features, hidden_size=hidden_size)\n",
    "\n",
    "trainer = pl.Trainer(max_epochs=1000,accelerator='auto', log_every_n_steps=1)\n",
    "\n",
    "trainer.fit(model, datamodule=datamodule)"
   ]
  }
 ],
 "metadata": {
  "kernelspec": {
   "display_name": "b2bnet",
   "language": "python",
   "name": "python3"
  },
  "language_info": {
   "codemirror_mode": {
    "name": "ipython",
    "version": 3
   },
   "file_extension": ".py",
   "mimetype": "text/x-python",
   "name": "python",
   "nbconvert_exporter": "python",
   "pygments_lexer": "ipython3",
   "version": "3.10.10"
  },
  "orig_nbformat": 4
 },
 "nbformat": 4,
 "nbformat_minor": 2
}
