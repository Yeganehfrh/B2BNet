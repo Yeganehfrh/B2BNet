{
 "cells": [
  {
   "attachments": {},
   "cell_type": "markdown",
   "metadata": {},
   "source": [
    "# Experiment 1\n",
    "This notebook contains the code for the first experiment of the paper. In this experiment, we train a model that first encodes the temporal dimensions of the EEG data and then its spatial dimensions. It does not include any B2B or classification heads."
   ]
  },
  {
   "cell_type": "code",
   "execution_count": 1,
   "metadata": {},
   "outputs": [],
   "source": [
    "%reload_ext autoreload\n",
    "%autoreload 3\n",
    "\n",
    "import pytorch_lightning as pl\n",
    "from src.b2bnet import B2BNetSpaceTimeModel, OtkaTimeDimSplit"
   ]
  },
  {
   "cell_type": "code",
   "execution_count": 2,
   "metadata": {
    "tags": [
     "parameters"
    ]
   },
   "outputs": [],
   "source": [
    "# Parameters\n",
    "segment_size = 120 * 3 # 3sec\n",
    "batch_size = 256\n",
    "n_channels = 59\n",
    "space_embedding_dim = 8\n",
    "time_embedding_dim = 16\n",
    "max_epochs = 10000"
   ]
  },
  {
   "cell_type": "code",
   "execution_count": null,
   "metadata": {},
   "outputs": [],
   "source": [
    "# model params\n",
    "data_mode = 'reconn'\n",
    "b2b_data = 'hypnotist'\n",
    "classifier = True\n",
    "encoder_arch = 'encoder_only'\n",
    "b2b = 'decoder'\n",
    "\n",
    "datamodule = OtkaTimeDimSplit(segment_size=segment_size, batch_size=batch_size, b2b_data=b2b_data, data_mode=data_mode)\n",
    "\n",
    "model = B2BNetSpaceTimeModel(\n",
    "    n_channels=n_channels, space_embedding_dim=space_embedding_dim,\n",
    "    time_embedding_dim=time_embedding_dim, kernel_size=1, n_subjects=52, classifier=classifier,\n",
    "    encoder_arch=encoder_arch, b2b=b2b, data_mode=data_mode)\n",
    "\n",
    "trainer = pl.Trainer(max_epochs=max_epochs, accelerator='cpu', log_every_n_steps=1, deterministic='warn')\n",
    "\n",
    "trainer.fit(model, datamodule=datamodule)\n",
    "# trainer.save_checkpoint(f'models/b2bnet_segment-{segment_size}_epochs-{trainer.current_epoch}.ckpt')"
   ]
  }
 ],
 "metadata": {
  "kernelspec": {
   "display_name": "b2bnet",
   "language": "python",
   "name": "python3"
  },
  "language_info": {
   "codemirror_mode": {
    "name": "ipython",
    "version": 3
   },
   "file_extension": ".py",
   "mimetype": "text/x-python",
   "name": "python",
   "nbconvert_exporter": "python",
   "pygments_lexer": "ipython3",
   "version": "3.10.12"
  },
  "orig_nbformat": 4
 },
 "nbformat": 4,
 "nbformat_minor": 2
}
